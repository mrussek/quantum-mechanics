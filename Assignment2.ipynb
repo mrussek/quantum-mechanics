{
 "cells": [
  {
   "cell_type": "markdown",
   "metadata": {},
   "source": [
    "# Quantum Physics I (8.04) \n",
    "## Assignment 2"
   ]
  },
  {
   "cell_type": "code",
   "execution_count": 26,
   "metadata": {},
   "outputs": [],
   "source": [
    "from math import sqrt\n",
    "from scipy.constants import h, m_e, c, hbar, e, alpha"
   ]
  },
  {
   "cell_type": "markdown",
   "metadata": {},
   "source": [
    "1. **de Broglie Wavelength**\n",
    "   \n",
    "   1. The de Broglie wavelength of a _non-relativistic_ electron with kinetic energy $E_{kin}$ can be written as\n",
    "   \n",
    "   $$\n",
    "   \\lambda_{nr} = \\frac{\\delta}{\\sqrt{E_{kin}}}Å\n",
    "   $$\n",
    "   \n",
    "   In this formula $\\delta$ is a unit-free constant, and the value of the energy $E_{kin}$ is entered in eV as a pure number. The answer comes out in Angstroms ($Å = 10^{-10}\\mathrm{m}$). Give the value of the unit-free constant $\\delta$.\n",
    "   \n",
    "   $$\n",
    "   \\begin{align*}\n",
    "   \\lambda_{nr} &= \\frac{\\delta}{\\sqrt{E_{kin}}} = \\frac{\\delta}{\\sqrt{\\frac{p^2}{2m}}} = \\frac{\\delta\\sqrt{2m}}{p} = \\frac{h}{p}\\\\\\\\\n",
    "   \\Rightarrow \\delta &= \\frac{h}{\\sqrt{2m}}\n",
    "   \\end{align*}\n",
    "   $$   "
   ]
  },
  {
   "cell_type": "code",
   "execution_count": 10,
   "metadata": {},
   "outputs": [
    {
     "data": {
      "text/plain": [
       "4.909039581114648e-19"
      ]
     },
     "execution_count": 10,
     "metadata": {},
     "output_type": "execute_result"
    }
   ],
   "source": [
    "delta = h / sqrt(2 * m_e)\n",
    "delta"
   ]
  },
  {
   "cell_type": "markdown",
   "metadata": {},
   "source": [
    "   \n",
    "   2. The de Broglie wavelength of a _relativistic_ electron with energy $E$ can be calculated in terms of the $\\gamma$ factor of the electron: $E = \\gamma mc^2$\n",
    "   \n",
    "   $$\n",
    "   \\begin{align}\n",
    "   E^2 &= (pc)^2 + (mc^2)^2 = \\left(\\frac{hc}{\\lambda_r}\\right)^2 + (mc^2)^2\\\\\n",
    "   \\Rightarrow \\lambda_r &= \\frac{hc}{\\sqrt{E^2 - (mc^2)^2}}\\\\\n",
    "   &= \\frac{hc}{mc^2\\sqrt{\\gamma^2 - 1}} = \\frac{\\ell}{\\sqrt{\\gamma^2 - 1}}\\\\\n",
    "   \\Rightarrow \\ell &= \\frac{h}{mc}\n",
    "   \\end{align}\n",
    "   $$"
   ]
  },
  {
   "cell_type": "code",
   "execution_count": 60,
   "metadata": {},
   "outputs": [
    {
     "data": {
      "text/plain": [
       "'2426.31 fm'"
      ]
     },
     "execution_count": 60,
     "metadata": {},
     "output_type": "execute_result"
    }
   ],
   "source": [
    "l = h / (m_e * c)\n",
    "f\"{(l * 1e15):.2f} fm\""
   ]
  },
  {
   "cell_type": "markdown",
   "metadata": {},
   "source": [
    "3. Rewrite the expression for for $\\lambda_{nr}$ in (a) in terms of $\\ell$ and $\\gamma$, using $E_{kin} = (\\gamma - 1)m_ec^2$\n",
    "\n",
    "   $$\n",
    "   \\begin{align}\n",
    "   \\lambda_{nr} &= \\frac{\\delta}{\\sqrt{E_{kin}}} = \\frac{\\delta}{\\sqrt{(\\gamma - 1)m_ec^2}} = \\frac{h}{\\sqrt{2(\\gamma - 1){m_e}^2c^2}}\\\\\n",
    "   &= \\frac{\\ell}{\\sqrt{2(\\gamma - 1)}}\\\\\n",
    "   \\end{align}\n",
    "   $$\n",
    "   \n",
    "   Now consider\n",
    "   \n",
    "   $$\n",
    "   \\begin{align}\n",
    "   \\frac{\\lambda_r}{\\lambda_{nr}} = \\sqrt{\\frac{2(\\gamma-1)}{\\gamma^2-1}} = \\sqrt{\\frac{2}{\\gamma+1}} < 1\n",
    "   \\end{align}\n",
    "   $$\n",
    "   \n",
    "   And so $\\lambda_r < \\lambda{nr}$\n",
    "   \n",
    "4. A few numerical calculations:\n",
    "   1. What is the energy of an electron whose de Broglie wavelength is equal to its Compton wavelength? Is that electron relativistic: Is it moving faster than $0.2c$?\n",
    "   \n",
    "   $$\n",
    "   \\lambda_C = \\frac{h}{mc} = \\frac{h}{p} \\Rightarrow p = mc \\Rightarrow E = \\frac{(mc)^2}{2m} = \\frac{1}{2}mc^2\n",
    "   $$\n",
    "   \n",
    "      The electron appears to be moving at $c$\n",
    "      \n",
    "   2. The de Broglie wavelength of a particle gives you the rough idea of the distance scale it can explore in a collision experiment. The International Linear Collider, which may be built in the near future, is expected to accelerate electrons to 1 TeV = 1000 GeV. What is the de Broglie wavelength of such electrons? Compare to the de Broglie wavelength of 7 TeV protons at the LHC at Geneva.\n",
    "   \n",
    "      Recall:\n",
    "      \n",
    "      $$\n",
    "      \\lambda_r = \\frac{hc}{\\sqrt{E^2 - (mc^2)^2}}\n",
    "      $$"
   ]
  },
  {
   "cell_type": "code",
   "execution_count": 27,
   "metadata": {},
   "outputs": [
    {
     "data": {
      "text/plain": [
       "1.9864458571489286e-37"
      ]
     },
     "execution_count": 27,
     "metadata": {},
     "output_type": "execute_result"
    }
   ],
   "source": [
    "E = 1e12\n",
    "λ_r = h * c / sqrt(E**2 - (m_e * c**2)**2)\n",
    "λ_r"
   ]
  },
  {
   "cell_type": "markdown",
   "metadata": {},
   "source": [
    "1. What is the maximum electron kinetic energy, and the associated $\\beta = \\frac{v}{c}$, for which the non-relativistic value of $\\lambda$ (in (a) or (c)) has an error less than or equal to $10\\%$?\n",
    "\n",
    "$$\n",
    "\\begin{align}\n",
    "\\frac{|\\lambda_{nr} - \\lambda_r|}{\\lambda_r} &= \\frac{\\lambda_{nr}}{\\lambda_r} - 1 = \\sqrt{\\frac{\\gamma + 1}{2}} - 1 < 0.1\\\\\\\\\n",
    "&\\Rightarrow \\sqrt{\\frac{\\gamma + 1}{2}} < 1.1\\\\\\\\\n",
    "&\\Rightarrow \\gamma < 1.42\\\\\\\\\n",
    "&\\Rightarrow (\\gamma - 1)m_e c^2 < 3.43\\times10^{-14}\\\\\\\\\n",
    "&\\Rightarrow \\frac{1}{\\sqrt{1 - \\beta^2}} < 1.42\\\\\\\\\n",
    "&\\Rightarrow \\frac{1}{1.42^2} < 1 - \\beta^2\\\\\\\\\n",
    "&\\Rightarrow \\beta^2 < 1 - \\frac{1}{1.42^2}\\\\\\\\\n",
    "&\\Rightarrow \\beta < \\sqrt{1 - \\frac{1}{1.42^2}}\\\\\\\\\n",
    "&\\Rightarrow \\beta < 0.71 \\Rightarrow v < 0.71c\n",
    "\\end{align}\n",
    "$$"
   ]
  },
  {
   "cell_type": "code",
   "execution_count": 33,
   "metadata": {},
   "outputs": [
    {
     "data": {
      "text/plain": [
       "0.7099765161199187"
      ]
     },
     "execution_count": 33,
     "metadata": {},
     "output_type": "execute_result"
    }
   ],
   "source": [
    "sqrt(1 - (1/1.42)**2)"
   ]
  },
  {
   "cell_type": "markdown",
   "metadata": {},
   "source": [
    "2. **Bohr radius, electron Compton wavelength, and classical electron radius.**\n",
    "\n",
    "   The classical electron radius $r_0$ is the radius obtained by setting the electrostatic energy associated to a charged ball of radius $r_0$ equal (up to constant factors) to the rest energy of the electron\n",
    "   \n",
    "   $$\n",
    "   \\frac{e^2}{r_0} = m_ec^2 \\rightarrow r_0 = \\frac{e^2}{m_ec^2}\n",
    "   $$\n",
    "   \n",
    "   Here $e$ is the charge of the electron. The bar-Compton wavelength $\\bar\\lambda_C$ of the electron is\n",
    "   \n",
    "   $$\n",
    "   \\bar\\lambda_C = \\frac{\\hbar}{m_ec}.\n",
    "   $$\n",
    "   \n",
    "   Finally, the fine structure constant $\\alpha$, which measures the strength of the electromagnetic coupling is\n",
    "   \n",
    "   $$\n",
    "   \\alpha = \\frac{e^2}{\\hbar c} \\approx \\frac{1}{137}\n",
    "   $$\n",
    "   \n",
    "   \n",
    "   a. The Bohr radius $a_0$ is the length scale that can be constructed from $e^2$, $\\hbar$ and $m_e$, and no extra numerical constants. Find the formula for the Bohr radius by consideration of units. Evaluate this length in terms of fm.\n",
    "   \n",
    "   Note that $e^2$ has units of $C^2$, $m_e$ has units of kg, and $\\hbar$ has units of $\\mathrm{J}\\cdot\\mathrm{s} = \\frac{\\mathrm{kg}\\cdot\\mathrm{m^2}}{s^2}$. Therefore, we have that\n",
    "      \n",
    "   Note that\n",
    "   $$\n",
    "   \\frac{\\bar\\lambda_C^2}{r_0} = \\frac{\\hbar^2}{m_e e^2} = a_0\n",
    "   $$\n",
    "\n",
    "   has units of length since $\\bar\\lambda_C$ and $r_0$ have units of length.\n",
    "\n",
    "   Calculatating, we obtain"
   ]
  },
  {
   "cell_type": "code",
   "execution_count": 38,
   "metadata": {},
   "outputs": [],
   "source": [
    "e_cgs = 4.8e-10"
   ]
  },
  {
   "cell_type": "code",
   "execution_count": 57,
   "metadata": {},
   "outputs": [],
   "source": [
    "hbar_cgs = 1.05e-27"
   ]
  },
  {
   "cell_type": "code",
   "execution_count": 58,
   "metadata": {},
   "outputs": [
    {
     "data": {
      "text/plain": [
       "'5252996697.4736728668 fm'"
      ]
     },
     "execution_count": 58,
     "metadata": {},
     "output_type": "execute_result"
    }
   ],
   "source": [
    "a_0 = hbar_cgs**2 / (m_e * (e_cgs**2))\n",
    "f\"{(a_0 * 1e15):.010f} fm\""
   ]
  },
  {
   "cell_type": "markdown",
   "metadata": {},
   "source": [
    "   b. Show that the three lengths form a geometric sequence with ratio $\\alpha$:\n",
    "   \n",
    "   $$\n",
    "   \\begin{align*}\n",
    "   a_0 \\alpha &= \\frac{\\hbar^2}{m_e e^2}\\frac{e^2}{\\hbar c} = \\frac{\\hbar}{m_e c} = \\bar\\lambda_C \\\\\n",
    "   \\bar\\lambda_C\\alpha &= \\frac{\\hbar}{m_e c}\\frac{e^2}{\\hbar c} = \\frac{e^2}{m_ec^2} = r_0\n",
    "   \\end{align*}\n",
    "   $$\n",
    "   \n",
    "   Use this to give the values of $\\bar\\lambda_C$ and $r_0$ in fm."
   ]
  },
  {
   "cell_type": "code",
   "execution_count": 30,
   "metadata": {},
   "outputs": [
    {
     "name": "stdout",
     "output_type": "stream",
     "text": [
      "lambda_C = 3470626420870.61 fm\n",
      "r_0 = 25326384629.42 fm\n"
     ]
    }
   ],
   "source": [
    "lambda_C = a_0 * alpha\n",
    "r_0 = lambda_C * alpha\n",
    "print(f\"lambda_C = {lambda_C * 1e15:.2f} fm\")\n",
    "print(f\"r_0 = {r_0 * 1e15:.2f} fm\")"
   ]
  },
  {
   "cell_type": "markdown",
   "metadata": {},
   "source": [
    "3. **Two-by-two matrices and linear devices.**\n",
    "\n",
    "Consider the two-beam Mach-Zender interferometer and a beam represented by the two-component column vector $u$:\n",
    "\n",
    "$$\n",
    "u = \\begin{pmatrix} u_1 \\\\ u_2 \\end{pmatrix}, \\,\\mathrm{with}\\, |u_1|^2 + |u_2|^2 = 1.\n",
    "$$\n",
    "\n",
    "Any _linear_ optical element in the interferometer can be represented by a two-by-two matrix $R$ such that with input $u$ beam the output is a $u'$ beam given by\n",
    "\n",
    "$$\n",
    "u' = Ru\n",
    "$$\n",
    "\n",
    "Show that conservation of probability for arbitrary $u$ requires that $R$ be a unitary matrix. A (finite size) matrix $R$ is said to be unitary if $R^\\dagger R = \\mathbf{1}$, where dagger denotes the operation of transposition and complex conjugation.\n",
    "\n",
    "First if $R$ conserves probability, then for any vector $u$ where $|u| = 1$, we have that $|Ru| = u^\\dagger R^\\dagger R u = 1$. Consider a basis $\\mathbf{u}_i$ that is orthonormal ($\\mathbf{u}_i^\\dagger \\mathbf{u}_j = \\delta_{ij}$). Now consider $(R\\mathbf{u}_i)^\\dagger R \\mathbf{u}_j$\n",
    "\n",
    "For all $\\mathbf{v}$, $\\mathbf{v}^\\dagger R^\\dagger R \\mathbf{v}$ = $\\mathbf{v}^\\dagger \\mathbf{v}$\n",
    "\n",
    "$$\n",
    "$$"
   ]
  },
  {
   "cell_type": "markdown",
   "metadata": {},
   "source": [
    "4. **Improving on bomb detection**\n",
    "\n",
    "We modify the Mach-Zehnder interferometer to increase the percentage of Elitzur-Vaidman bombs that can be vouched to work without detonating them. For this purpose we build a beam-splitter with reflectivity $R$ and transmissivity $T$. A photon incoming (from either port) has a probability $R$ to be reflected and a probability $T$ to be transmitted ($R + T = 1$). Let $r$ and $t$ denote the positive square roots:\n",
    "\n",
    "$$\n",
    "r = \\sqrt R  \\quad t = \\sqrt T\n",
    "$$\n",
    "\n",
    "1. Build the two-by-two matrix $U$ that represents the beam splitter. For this consider what happens when a photon hits the beam splitter from the top side (input $\\begin{pmatrix} 1 \\\\ 0 \\end{pmatrix}$), and when it hits from the bottom side (input $\\begin{pmatrix} 0 \\\\ 1 \\end{pmatrix}$). To fix conventions $U$ will have all entries positive (and real) except for the bottom right-most element (the 2,2 element). Confirm that $U$ is unitary.\n",
    "\n",
    "   The interferometer with detectors D0 and D1 (shown below) uses two identical copies of the beam splitter. The incoming photon arrives from the top side.\n",
    "   \n",
    "   $$\n",
    "   U = \\begin{pmatrix} r & t \\\\ t & -r \\end{pmatrix}\n",
    "   $$\n",
    "   \n",
    "   $$\n",
    "   U^\\dagger U = \\begin{pmatrix} r & t \\\\ t & ir \\end{pmatrix} \\begin{pmatrix} r & t \\\\ t & -ir \\end{pmatrix}\n",
    "   $$\n",
    "   "
   ]
  }
 ],
 "metadata": {
  "kernelspec": {
   "display_name": "Python 3",
   "language": "python",
   "name": "python3"
  },
  "language_info": {
   "codemirror_mode": {
    "name": "ipython",
    "version": 3
   },
   "file_extension": ".py",
   "mimetype": "text/x-python",
   "name": "python",
   "nbconvert_exporter": "python",
   "pygments_lexer": "ipython3",
   "version": "3.7.1"
  }
 },
 "nbformat": 4,
 "nbformat_minor": 5
}
