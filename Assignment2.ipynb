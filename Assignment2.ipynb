{
 "cells": [
  {
   "cell_type": "markdown",
   "id": "2a6aa122",
   "metadata": {},
   "source": [
    "# Quantum Physics I (8.04) \n",
    "## Assignment 2"
   ]
  },
  {
   "cell_type": "code",
   "execution_count": 11,
   "id": "1ce15b5b",
   "metadata": {},
   "outputs": [],
   "source": [
    "from math import sqrt\n",
    "from scipy.constants import h, m_e, c"
   ]
  },
  {
   "cell_type": "markdown",
   "id": "5ddd9536",
   "metadata": {},
   "source": [
    "1. **de Broglie Wavelength**\n",
    "   \n",
    "   1. The de Broglie wavelength of a _non-relativistic_ electron with kinetic energy $E_{kin}$ can be written as\n",
    "   \n",
    "   $$\n",
    "   \\lambda_{nr} = \\frac{\\delta}{\\sqrt{E_{kin}}}Å\n",
    "   $$\n",
    "   \n",
    "   In this formula $\\delta$ is a unit-free constant, and the value of the energy $E_{kin}$ is entered in eV as a pure number. The answer comes out in Angstroms ($Å = 10^{-10}\\mathrm{m}$). Give the value of the unit-free constant $\\delta$.\n",
    "   \n",
    "   $$\n",
    "   \\begin{align*}\n",
    "   \\lambda_{nr} &= \\frac{\\delta}{\\sqrt{E_{kin}}} = \\frac{\\delta}{\\sqrt{\\frac{p^2}{2m}}} = \\frac{\\delta\\sqrt{2m}}{p} = \\frac{h}{p}\\\\\\\\\n",
    "   \\Rightarrow \\delta &= \\frac{h}{\\sqrt{2m}}\n",
    "   \\end{align*}\n",
    "   $$   "
   ]
  },
  {
   "cell_type": "code",
   "execution_count": 5,
   "id": "5e6444ca",
   "metadata": {},
   "outputs": [
    {
     "data": {
      "text/plain": [
       "4.909039581114648e-19"
      ]
     },
     "execution_count": 5,
     "metadata": {},
     "output_type": "execute_result"
    }
   ],
   "source": [
    "delta = h / sqrt(2 * m_e)\n",
    "delta"
   ]
  },
  {
   "cell_type": "markdown",
   "id": "09ed1f68",
   "metadata": {},
   "source": [
    "   \n",
    "   2. The de Broglie wavelength of a _relativistic_ electron with energy $E$ can be calculated in terms of the $\\gamma$ factor of the electron: $E = \\gamma mc^2$\n",
    "   \n",
    "   $$\n",
    "   \\begin{align}\n",
    "   E^2 &= (pc)^2 + (mc^2)^2 = \\left(\\frac{hc}{\\lambda_r}\\right)^2 + (mc^2)^2\\\\\n",
    "   \\Rightarrow \\lambda_r &= \\frac{hc}{\\sqrt{E^2 - (mc^2)^2}}\\\\\n",
    "   &= \\frac{hc}{mc^2\\sqrt{\\gamma^2 - 1}} = \\frac{\\ell}{\\sqrt{\\gamma^2 - 1}}\\\\\n",
    "   \\Rightarrow \\ell &= \\frac{h}{mc}\n",
    "   \\end{align}\n",
    "   $$"
   ]
  },
  {
   "cell_type": "code",
   "execution_count": 23,
   "id": "7b1c6165",
   "metadata": {},
   "outputs": [
    {
     "data": {
      "text/plain": [
       "'2426.31 fm'"
      ]
     },
     "execution_count": 23,
     "metadata": {},
     "output_type": "execute_result"
    }
   ],
   "source": [
    "l = h / (m_e * c)\n",
    "f\"{(l * 1e15):.2f} fm\""
   ]
  },
  {
   "cell_type": "markdown",
   "id": "30f91da3",
   "metadata": {},
   "source": [
    "3. Rewrite the expression for for $\\lambda_{nr}$ in (a) in terms of $\\ell$ and $\\gamma$, using $E_{kin} = (\\gamma - 1)m_ec^2$\n",
    "\n",
    "   $$\n",
    "   \\begin{align}\n",
    "   \\lambda_{nr} &= \\frac{\\delta}{\\sqrt{E_{kin}}} = \\frac{\\delta}{\\sqrt{(\\gamma - 1)m_ec^2}} = \\frac{h}{\\sqrt{2(\\gamma - 1){m_e}^2c^2}}\\\\\n",
    "   &= \\frac{\\ell}{\\sqrt{2(\\gamma - 1)}}\\\\\n",
    "   \\end{align}\n",
    "   $$\n",
    "   \n",
    "   Now consider\n",
    "   \n",
    "   $$\n",
    "   \\begin{align}\n",
    "   \\frac{\\lambda_r}{\\lambda_{nr}} = \\sqrt{\\frac{2(\\gamma-1)}{\\gamma^2-1}} = \\sqrt{\\frac{2}{\\gamma+1}} < 1\n",
    "   \\end{align}\n",
    "   $$\n",
    "   \n",
    "   And so $\\lambda_r < \\lambda{nr}$\n",
    "   \n",
    "4. A few numerical calculations:\n",
    "   1. What is the energy of an electron whose de Broglie wavelength is equal to its Compton wavelength? Is that electron relativistic: Is it moving faster than $0.2c$?\n",
    "   \n",
    "   $$\n",
    "   \\lambda_C = \\frac{h}{mc} = \\frac{h}{p} \\Rightarrow p = mc \\Rightarrow E = \\frac{(mc)^2}{2m} = \\frac{1}{2}mc^2\n",
    "   $$\n",
    "   \n",
    "      The electron appears to be moving at $c$\n",
    "      \n",
    "   2. The de Broglie wavelength of a particle gives you the rough idea of the distance scale it can explore in a collision experiment. The International Linear Collider, which may be built in the near future, is expected to accelerate electrons to 1 TeV = 1000 GeV. What is the de Broglie wavelength of such electrons? Compare to the de Broglie wavelength of 7 TeV protons at the LHC at Geneva.\n",
    "   \n",
    "      Recall:\n",
    "      \n",
    "      $$\n",
    "      \\lambda_r = \\frac{hc}{\\sqrt{E^2 - (mc^2)^2}}\n",
    "      $$"
   ]
  },
  {
   "cell_type": "code",
   "execution_count": 27,
   "id": "80892842",
   "metadata": {},
   "outputs": [
    {
     "data": {
      "text/plain": [
       "1.9864458571489286e-37"
      ]
     },
     "execution_count": 27,
     "metadata": {},
     "output_type": "execute_result"
    }
   ],
   "source": [
    "E = 1e12\n",
    "λ_r = h * c / sqrt(E**2 - (m_e * c**2)**2)\n",
    "λ_r"
   ]
  },
  {
   "cell_type": "markdown",
   "id": "c95a3c52",
   "metadata": {},
   "source": [
    "1. What is the maximum electron kinetic energy, and the associated $\\beta = \\frac{v}{c}$, for which the non-relativistic value of $\\lambda$ (in (a) or (c)) has an error less than or equal to $10\\%$?\n",
    "\n",
    "$$\n",
    "\\begin{align}\n",
    "\\frac{|\\lambda_{nr} - \\lambda_r|}{\\lambda_r} &= \\frac{\\lambda_{nr}}{\\lambda_r} - 1 = \\sqrt{\\frac{\\gamma + 1}{2}} - 1 < 0.1\\\\\\\\\n",
    "&\\Rightarrow \\sqrt{\\frac{\\gamma + 1}{2}} < 1.1\\\\\\\\\n",
    "&\\Rightarrow \\gamma < 1.42\\\\\\\\\n",
    "&\\Rightarrow (\\gamma - 1)m_e c^2 < 3.43\\times10^{-14}\\\\\\\\\n",
    "&\\Rightarrow \\frac{1}{\\sqrt{1 - \\beta^2}} < 1.42\\\\\\\\\n",
    "&\\Rightarrow \\frac{1}{1.42^2} < 1 - \\beta^2\\\\\\\\\n",
    "&\\Rightarrow \\beta^2 < 1 - \\frac{1}{1.42^2}\\\\\\\\\n",
    "&\\Rightarrow \\beta < \\sqrt{1 - \\frac{1}{1.42^2}}\\\\\\\\\n",
    "&\\Rightarrow \\beta < 0.71 \\Rightarrow v < 0.71c\n",
    "\\end{align}\n",
    "$$"
   ]
  },
  {
   "cell_type": "code",
   "execution_count": 33,
   "id": "bd724881",
   "metadata": {},
   "outputs": [
    {
     "data": {
      "text/plain": [
       "0.7099765161199187"
      ]
     },
     "execution_count": 33,
     "metadata": {},
     "output_type": "execute_result"
    }
   ],
   "source": [
    "sqrt(1 - (1/1.42)**2)"
   ]
  }
 ],
 "metadata": {
  "kernelspec": {
   "display_name": "Python 3 (ipykernel)",
   "language": "python",
   "name": "python3"
  },
  "language_info": {
   "codemirror_mode": {
    "name": "ipython",
    "version": 3
   },
   "file_extension": ".py",
   "mimetype": "text/x-python",
   "name": "python",
   "nbconvert_exporter": "python",
   "pygments_lexer": "ipython3",
   "version": "3.9.5"
  }
 },
 "nbformat": 4,
 "nbformat_minor": 5
}
