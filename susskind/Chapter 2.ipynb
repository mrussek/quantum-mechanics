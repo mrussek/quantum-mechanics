{
 "cells": [
  {
   "cell_type": "markdown",
   "metadata": {},
   "source": [
    "# Chapter 2: Quantum States\n",
    "\n",
    "## 2.1 States and Vectors\n",
    "## 2.2 Representing Spin States\n",
    "## 2.3 Along the $x$ Axis\n",
    "_Exercise 2.1_\n",
    "Prove that the vector $|r\\rangle$ is orthogonal to the vector $|l\\rangle$\n",
    "\n",
    "$$\n",
    "\\langle r | l \\rangle = \\big(\\frac{1}{\\sqrt{2}}\\langle u | + \\frac{1}{\\sqrt{2}}\\langle d |\\big)\\big(\\frac{1}{\\sqrt{2}}|u\\rangle - \\frac{1}{\\sqrt{2}}|d\\rangle\\big) \\\\\n",
    "= \\frac{1}{2}\\langle u | u \\rangle - \\frac{1}{2}\\langle d | d \\rangle \\\\\n",
    "= \\frac{1}{2} - \\frac{1}{2} = 0\n",
    "$$\n",
    "## 2.4 Along the $y$ Axis\n",
    "\n",
    "$$\n",
    "|l\\rangle = \\frac{1}{\\sqrt 2}|u\\rangle - \\frac{1}{\\sqrt 2}|d\\rangle\\\\\n",
    "|r\\rangle = \\frac{1}{\\sqrt 2}|u\\rangle + \\frac{1}{\\sqrt 2}|d\\rangle\\\\\n",
    "|i\\rangle = \\frac{1}{\\sqrt 2}|u\\rangle + \\frac{i}{\\sqrt 2}|d\\rangle\\\\\n",
    "|o\\rangle = \\frac{1}{\\sqrt 2}|u\\rangle - \\frac{i}{\\sqrt 2}|d\\rangle\\\\\n",
    "$$\n",
    "\n",
    "_Exercise 2.2_\n",
    "Prove that $|i\\rangle$ and $|o\\rangle$ satisfy all of the conditions in Eqs. 2.7 - 2.9. Are they unique in that respect?\n",
    "\n",
    "\n",
    "\n",
    "_Exercise 2.3_\n",
    "## 2.5 Counting Parameters\n",
    "## 2.6 Representing Spin States as Column Vectors\n",
    "## 2.7 Putting It All Together"
   ]
  }
 ],
 "metadata": {
  "kernelspec": {
   "display_name": "Python 3",
   "language": "python",
   "name": "python3"
  },
  "language_info": {
   "codemirror_mode": {
    "name": "ipython",
    "version": 3
   },
   "file_extension": ".py",
   "mimetype": "text/x-python",
   "name": "python",
   "nbconvert_exporter": "python",
   "pygments_lexer": "ipython3",
   "version": "3.7.1"
  }
 },
 "nbformat": 4,
 "nbformat_minor": 2
}
