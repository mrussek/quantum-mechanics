{
 "cells": [
  {
   "cell_type": "markdown",
   "metadata": {},
   "source": [
    "# Chapter 3: Principles of Quantum Mechanics\n",
    "\n",
    "## 3.1 Mathematical Interlude: Linear Operators\n",
    "\n",
    "**Exercise 3.1:** Prove the following: If a vector space is $N$-dimensional, an orthnormal basis of N vectors can be constructed from the eigenvectors of a Hermitian operator.\n",
    "\n",
    "**Note:** This is not true unless we only consider Hermitian operators of _full rank_. A Hermitian operator that is not full-rank will have a column space of dimension $M \\lt N$.\n",
    "\n",
    "Proof: By induction. For the base case we can simply observe that in $N = 1$ dimension(s), a Hermitian operator $H$ is a simply a real number (excluding zero) equal to it's single eigenvalue $\\lambda$. The associated eigenvector can be thought of as simply the one-dimensional vector $(1)$, which trivially spans the one-dimensional space.\n",
    "\n",
    "For the inductive step, we assume that the (orthogonalized) eigenvectors of $H$ are $\\mathbf{v_1} \\dots \\mathbf{v_N}$, which by the inductive hypothesis are orthogonal and normalized. We consider an $N+1$ dimensional extension of $H$, $\\tilde H$ with an additional eigenvector $\\mathbf{\\tilde v_{N+1}}$. Because we have assumed that $\\tilde H$ is full rank, we can exclude the possibility $\\mathbf{\\tilde v_{N+1}} = \\lambda \\mathbf v_i$ for $1\\le i \\le N, \\lambda \\in \\mathbb{R}$. Note that we can orthogonalize via the $\\mathbf{\\tilde v_{N+1}}$ via the Gram-Schmidt procedure to obtain $\\mathbf v_{N+1}$ which will be normalized and orthogonal to $\\mathbf v_1 \\dots \\mathbf v_N$. Therefore, we have constructed an orthonormal basis for an $N+1$ dimensional space from the eigenvectors of $H$.\n",
    "\n",
    "\n",
    "## 3.2 The Principles\n",
    "\n",
    "## 3.3 An Example: Spin Operators\n",
    "\n",
    "## 3.4 Constructing Spin Operators\n",
    "\n",
    "**Exercise 3.2:** Prove that Eq 3.16 is the unique solution to Eqs. 3.14 and 3.15.\n",
    "\n",
    "$$\n",
    "\\begin{pmatrix}\n",
    "(\\sigma_z)_{11} & (\\sigma_z)_{12} \\\\\n",
    "(\\sigma_z)_{21} & (\\sigma_z)_{22}\n",
    "\\end{pmatrix}\n",
    "\\begin{pmatrix}\n",
    "1 \\\\ 0\n",
    "\\end{pmatrix} = \\begin{pmatrix} 1\\\\0 \\end{pmatrix} \\Rightarrow \\\\\n",
    "(\\sigma_z)_{11} = 1 \\\\ (\\sigma_z)_{21} = 0\\\\\n",
    "$$\n",
    "$$\n",
    "\\begin{pmatrix}\n",
    "(\\sigma_z)_{11} & (\\sigma_z)_{12} \\\\\n",
    "(\\sigma_z)_{21} & (\\sigma_z)_{22}\n",
    "\\end{pmatrix}\n",
    "\\begin{pmatrix} 0 \\\\ 1 \\end{pmatrix} = \\begin{pmatrix} 0\\\\-1 \\end{pmatrix} \\Rightarrow \\\\\n",
    "(\\sigma_z)_{12} = 0 \\\\ (\\sigma_z)_{22} = -1\\\\\n",
    "$$\n",
    "\n",
    "So we have\n",
    "$$\n",
    "\\sigma_z = \\begin{pmatrix} (\\sigma_z)_{11} & (\\sigma_z)_{12} \\\\ (\\sigma_z)_{21} & (\\sigma_z)_{22}\\end{pmatrix} = \\begin{pmatrix} 1 & 0 \\\\ 0 & -1\\end{pmatrix}\n",
    "$$\n",
    "\n",
    "## 3.5 A Common Misconception\n",
    "\n",
    "## 3.6 3-Vector Operators Revisited\n",
    "\n",
    "## 3.7 Reaping the Results\n",
    "\n",
    "**Exercise 3.3:** Calculate the eigenvectors and eigenvalues of $\\sigma_n$. _Hint:_ Assume the eigenvector $\\lambda_1$ has the form\n",
    "\n",
    "$$\n",
    "\\begin{pmatrix}\n",
    "\\cos \\alpha \\\\ \\sin \\alpha\n",
    "\\end{pmatrix}\n",
    "$$\n",
    "\n",
    "where $\\alpha$ is an unknown parameter. Plug this vector into the eigenvalue equation and solve for $\\alpha$ in terms of $\\theta$. Why did we use a single parameter $\\alpha$? Notice that our suggested column vector must have unit length.\n",
    "\n",
    "The authors used a single parameter because two dimensional vectors of unit length are parameterized by a single paramter (the rotation a particular axis direction). The eigenvector can be assumed without loss of generality to be a unit vector since any scalar multiple of an eigenvector is still an eigenvector.\n",
    "\n",
    "$$\n",
    "\\sigma_n |\\lambda\\rangle = \\lambda |\\lambda\\rangle \\Rightarrow\n",
    "\\begin{pmatrix} \\cos \\theta & \\sin \\theta \\\\ \\sin \\theta & - \\cos \\theta \\end{pmatrix} \\begin{pmatrix} \\cos \\alpha \\\\ \\sin \\alpha \\end{pmatrix} = \\lambda_1 \\begin{pmatrix} \\cos \\alpha \\\\ \\sin \\alpha \\end{pmatrix} \\\\ \\Rightarrow \\cos \\theta \\cos \\alpha + \\sin \\theta \\sin \\alpha = \\lambda_1 \\cos \\alpha \\land \\sin \\theta \\cos \\alpha - \\cos \\theta \\sin \\alpha = \\lambda_1 \\sin \\alpha \\Rightarrow \\\\\n",
    "\\cos{(\\alpha - \\theta)} = \\lambda_1 \\cos \\alpha \\land \\sin{(\\theta - \\alpha)} = \\lambda_1 \\sin \\alpha \\Rightarrow \\\\\n",
    "(\\lambda_1 = 1 \\land \\alpha = \\frac{1}{2}\\theta) \\lor (\\lambda_1 = -1 \\land \\alpha = -\\frac{\\theta}{2})\n",
    "$$\n",
    "\n",
    "**Exercise 3.4:** Let $n_z = \\cos \\theta, n_x = \\sin \\theta \\cos \\phi$ and $n_y = \\sin \\theta \\sin \\phi$. Angles $\\theta$ and $\\phi$ are defined according to the usual conventions for spherical coordinates (Fig 3.2). Compute the eigenvalues and eigenvectors for the matrix of Eq. 3.23.\n",
    "\n",
    "**Exercise 3.5:** Suppose that a spin is prepared so that $\\sigma_m = +1$. The apparatus is then rotated to the $\\hat n$ direction and $\\sigma_n$ is measured. What is the probability that the result is $+1$? Note that $\\sigma_m = \\sigma \\cdot \\hat m$, using the same convention we used for $\\sigma_n$. \n",
    "\n",
    "## 3.8 The Spin-Polarization Principle\n"
   ]
  },
  {
   "cell_type": "code",
   "execution_count": 63,
   "metadata": {},
   "outputs": [
    {
     "data": {
      "text/plain": [
       "(1.8701068111782995, -0.001966716402057145)"
      ]
     },
     "execution_count": 63,
     "metadata": {},
     "output_type": "execute_result"
    }
   ],
   "source": [
    "θ, α = 10*rand() - 5, 10*rand() - 5"
   ]
  },
  {
   "cell_type": "code",
   "execution_count": 64,
   "metadata": {},
   "outputs": [
    {
     "data": {
      "text/plain": [
       "true"
      ]
     },
     "execution_count": 64,
     "metadata": {},
     "output_type": "execute_result"
    }
   ],
   "source": [
    "cos(α) ≈ cos(α + π)"
   ]
  },
  {
   "cell_type": "markdown",
   "metadata": {},
   "source": [
    "$$\n",
    "\\cos(\\theta - \\alpha) = - \\cos \\alpha \\\\\n",
    "\\sin(\\theta - \\alpha) = - \\sin \\alpha \n",
    "$$"
   ]
  },
  {
   "cell_type": "markdown",
   "metadata": {},
   "source": [
    "$$\n",
    "\\mathbf{A}(\\mathbf{\\alpha v_1 + \\beta v_2}) = \\lambda(\\alpha \\mathbf{v_1} + \\beta \\mathbf{v_2})\n",
    "$$"
   ]
  },
  {
   "cell_type": "code",
   "execution_count": 2,
   "metadata": {},
   "outputs": [],
   "source": [
    "using LinearAlgebra"
   ]
  },
  {
   "cell_type": "code",
   "execution_count": 35,
   "metadata": {},
   "outputs": [
    {
     "data": {
      "text/plain": [
       "3×3 Hermitian{Complex{Int64}, Matrix{Complex{Int64}}}:\n",
       " 7+0im   4+1im  4+6im\n",
       " 4-1im  10+0im  3+9im\n",
       " 4-6im   3-9im  8+0im"
      ]
     },
     "execution_count": 35,
     "metadata": {},
     "output_type": "execute_result"
    }
   ],
   "source": [
    "A = Hermitian(rand(1:10, (3, 3)) + rand(1:10, (3, 3))*1im)"
   ]
  },
  {
   "cell_type": "code",
   "execution_count": 36,
   "metadata": {},
   "outputs": [
    {
     "data": {
      "text/plain": [
       "3-element Vector{Float64}:\n",
       " -2.1938830331315073\n",
       "  4.752925459730522\n",
       " 22.440957573400986"
      ]
     },
     "execution_count": 36,
     "metadata": {},
     "output_type": "execute_result"
    }
   ],
   "source": [
    "V = eigvecs(A)\n",
    "λ = eigvals(A)"
   ]
  },
  {
   "cell_type": "code",
   "execution_count": 48,
   "metadata": {},
   "outputs": [
    {
     "data": {
      "text/plain": [
       "-4.163336342344337e-17 + 5.551115123125783e-17im"
      ]
     },
     "execution_count": 48,
     "metadata": {},
     "output_type": "execute_result"
    }
   ],
   "source": [
    "(V[:,1]' * V[:,2])"
   ]
  },
  {
   "cell_type": "code",
   "execution_count": 40,
   "metadata": {},
   "outputs": [
    {
     "data": {
      "text/plain": [
       "3-element Vector{ComplexF64}:\n",
       "  0.7871694214521116 + 0.5874820548274562im\n",
       " 0.09598366829682473 + 1.078980441358088im\n",
       "  -1.635524454979427 - 0.0im"
      ]
     },
     "execution_count": 40,
     "metadata": {},
     "output_type": "execute_result"
    }
   ],
   "source": [
    " λ[1] * V[:,1]"
   ]
  }
 ],
 "metadata": {
  "kernelspec": {
   "display_name": "Julia 1.7 1.7.0",
   "language": "julia",
   "name": "julia-1.7-1.7"
  },
  "language_info": {
   "file_extension": ".jl",
   "mimetype": "application/julia",
   "name": "julia",
   "version": "1.7.0"
  }
 },
 "nbformat": 4,
 "nbformat_minor": 2
}
