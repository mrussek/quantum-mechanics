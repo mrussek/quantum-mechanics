{
 "cells": [
  {
   "cell_type": "markdown",
   "metadata": {},
   "source": [
    "# Chapter 4: Time and Change"
   ]
  },
  {
   "cell_type": "markdown",
   "metadata": {},
   "source": [
    "## 4.1 A Classical Reminder"
   ]
  },
  {
   "cell_type": "markdown",
   "metadata": {},
   "source": [
    "## 4.2 Unitarity"
   ]
  },
  {
   "cell_type": "markdown",
   "metadata": {},
   "source": [
    "## 4.3 Determinism in Quantum Mechanics"
   ]
  },
  {
   "cell_type": "markdown",
   "metadata": {},
   "source": [
    "## 4.4 A Closer Look at $\\mathbf U(t)$\n",
    "\n",
    "**Exercise 4.1:** Prove that if $\\mathbf U$ is unitary, and if $|A\\rangle$ and $|B\\rangle$ are any two state-vectors, then the inner product of $\\mathbf U |A\\rangle$ and $\\mathbf U |B\\rangle$ is the same as the inner product of $|A\\rangle$ and $|B\\rangle$. One could call this the _conservation of overlaps_. It expressses the fact that the logical relation between states is preserved with time.\n",
    "\n",
    "$$\n",
    "\\langle B | \\mathbf U^\\dagger \\mathbf U |A\\rangle = \\langle B | I |A\\rangle = \\langle B | A \\rangle\n",
    "$$"
   ]
  },
  {
   "cell_type": "markdown",
   "metadata": {},
   "source": [
    "$$\n",
    "\\mathbf{L}^\\dagger = \\mathbf L\n",
    "$$"
   ]
  },
  {
   "cell_type": "markdown",
   "metadata": {},
   "source": [
    "$$\n",
    "[\\mathbf{M}, \\mathbf{L}] = \\mathbf{M}\\mathbf{L} - \\mathbf{L}\\mathbf{M}\n",
    "$$"
   ]
  },
  {
   "cell_type": "markdown",
   "metadata": {},
   "source": [
    "$$\n",
    "(\\mathbf{A}\\mathbf{B})^\\dagger = \\mathbf{B}^\\dagger \\mathbf{A}^\\dagger\n",
    "$$"
   ]
  },
  {
   "cell_type": "markdown",
   "metadata": {},
   "source": [
    "$$\n",
    "p_i = \\frac{\\partial \\mathcal{L}}{\\partial \\dot{q}_i}\n",
    "$$"
   ]
  },
  {
   "cell_type": "markdown",
   "metadata": {},
   "source": [
    "## 4.5 The Hamiltonian\n",
    "\n",
    "**Exercise 4.2:** Prove that if $\\mathbf M$ and $\\mathbf L$ are both Hermitian, $i[\\mathbf M, \\mathbf L]$ is also Hermitian. Note that the $i$ is important. The commutator is, by itself, not Hermitian.\n",
    "\n",
    "$$\n",
    "i[\\mathbf M, \\mathbf L] = i( \\mathbf M \\mathbf L - \\mathbf L \\mathbf M ) = (-i( \\mathbf L^\\dagger \\mathbf M^\\dagger - \\mathbf M^\\dagger \\mathbf L^\\dagger ))^\\dagger = (i(\\mathbf M \\mathbf L - \\mathbf L \\mathbf M))^\\dagger = (i[\\mathbf M, \\mathbf L])^\\dagger\n",
    "$$\n",
    "\n",
    "**Exercise 4.3:** Go back to the definition of Poisson brackets in _Volume I_ and check that the identification in Eq. 4.21 is dimensionally consistent. Show that without the factor $\\hbar$, it would not be.\n",
    "\n",
    "Recall\n",
    "\n",
    "$$\n",
    "\\{ F, G \\} = \\sum_{i}{\\left(\\frac{\\partial F}{\\partial q_i}\\frac{\\partial G}{\\partial p_i} - \\frac{\\partial F}{\\partial p_i}\\frac{\\partial G}{\\partial q_i}\\right)}\n",
    "$$\n",
    "\n",
    "and therefore $\\{ L, H \\}$ has units of \n",
    "\n",
    "$$\n",
    "\\frac{[L][H]}{[q][p]} = \\frac{[L]\\mathrm{J}}{[q]\\frac{[\\mathcal L]}{[\\dot q]}} = \\frac{\\mathrm{[L]}}{\\mathrm{s}}\n",
    "$$\n",
    "\n",
    "However, the term\n",
    "\n",
    "$$\n",
    "[\\mathbf L, \\mathbf H] = \\mathbf{L}\\mathbf{H} - \\mathbf{H}\\mathbf{L}\n",
    "$$\n",
    "\n",
    "Has units of $\\mathrm{J}\\cdot[L]$. Therefore, we must multiply the Poisson bracket by a quantity that has units of $\\mathrm{J}\\cdot\\mathrm{s}$"
   ]
  },
  {
   "cell_type": "markdown",
   "metadata": {},
   "source": [
    "## 4.6 What Ever Happened to $\\hbar$?"
   ]
  },
  {
   "cell_type": "markdown",
   "metadata": {},
   "source": [
    "## 4.7 Expectation Values"
   ]
  },
  {
   "cell_type": "markdown",
   "metadata": {},
   "source": [
    "## 4.8 Ignoring the Phase-Factor"
   ]
  },
  {
   "cell_type": "markdown",
   "metadata": {},
   "source": [
    "## 4.9 Connections to Classical Mechanics"
   ]
  },
  {
   "cell_type": "markdown",
   "metadata": {},
   "source": [
    "## 4.10 Conservation of Energy"
   ]
  },
  {
   "cell_type": "markdown",
   "metadata": {},
   "source": [
    "## 4.11 Spin in a Magnetic Field\n",
    "\n",
    "**Exercise 4.4:** Verify the commutation relations of Eqs. 4.26.\n",
    "\n",
    "$$\n",
    "[\\sigma_x, \\sigma_y] = \\sigma_x \\sigma_y - \\sigma_y \\sigma_x = \\begin{pmatrix} 0 & 1 \\\\ 1 & 0 \\end{pmatrix} \\begin{pmatrix} 0 & -i \\\\ i & 0 \\end{pmatrix} - \\begin{pmatrix} 0 & -i \\\\ i & 0 \\end{pmatrix} \\begin{pmatrix} 0 & 1 \\\\ 1 & 0 \\end{pmatrix} \\\\ = \\begin{pmatrix} i & 0 \\\\ 0 & -i \\end{pmatrix} - \\begin{pmatrix} -i & 0 \\\\ 0 & i \\end{pmatrix} \\\\\n",
    "= 2i \\sigma_z\n",
    "$$\n",
    "\n",
    "$$\n",
    "[\\sigma_y, \\sigma_z] = \\sigma_y \\sigma_z - \\sigma_z \\sigma_y = \\begin{pmatrix} 0 & -i \\\\ i & 0 \\end{pmatrix} \\begin{pmatrix} 1 & 0 \\\\ 0 & -1 \\end{pmatrix} - \\begin{pmatrix} 1 & 0 \\\\ 0 & -1 \\end{pmatrix} \\begin{pmatrix} 0 & -i \\\\ i & 0 \\end{pmatrix}\\\\ = \\begin{pmatrix} 0 & i \\\\ i & 0 \\end{pmatrix} - \\begin{pmatrix} 0 & -i \\\\ -i & 0 \\end{pmatrix}\\\\ = 2 i \\sigma_x\n",
    "$$\n",
    "\n",
    "$$\n",
    "[\\sigma_z, \\sigma_x] = \\sigma_z \\sigma_x - \\sigma_x \\sigma_z = \\begin{pmatrix} 1 & 0 \\\\ 0 & -1 \\end{pmatrix} \\begin{pmatrix} 0 & 1 \\\\ 1 & 0 \\end{pmatrix} - \\begin{pmatrix} 0 & 1 \\\\ 1 & 0 \\end{pmatrix}\n",
    "\\begin{pmatrix} 1 & 0 \\\\ 0 & -1 \\end{pmatrix} \\\\ = \\begin{pmatrix} 0 & 1 \\\\ -1 & 0 \\end{pmatrix} - \\begin{pmatrix} 0 & -1 \\\\ 1 & 0 \\end{pmatrix} = 2 i \\sigma_y\n",
    "$$"
   ]
  },
  {
   "cell_type": "markdown",
   "metadata": {},
   "source": [
    "$$\n",
    "H|\\psi\\rangle = \\lambda |\\psi\\rangle\\\\\n",
    "H|\\psi\\rangle - \\lambda | \\psi \\rangle = 0\\\\\n",
    "(H - \\lambda I)|\\psi\\rangle = 0\n",
    "$$"
   ]
  },
  {
   "cell_type": "markdown",
   "metadata": {},
   "source": [
    "## 4.12 Solving the Schrödinger Equation\n",
    "\n",
    "$$\n",
    "\\mathbf H = \\frac{\\hbar \\omega}{2}\\sigma \\cdot \\vec{n} = \\frac{\\hbar \\omega}{2}\\left(\\sigma_x n_x + \\sigma_y n_y + \\sigma_z n_z\\right) = \\frac{\\hbar \\omega}{2}\\left( \\begin{pmatrix} 0 & n_x \\\\ n_x & 0 \\end{pmatrix} + \\begin{pmatrix} 0 & -i n_y \\\\ i n_y & 0 \\end{pmatrix} + \\begin{pmatrix} n_z & 0 \\\\ 0 & -n_z \\end{pmatrix} \\right) \\\\ = \\frac{\\hbar \\omega}{2}\\begin{pmatrix} n_z & n_x - i n_y \\\\ n_x + i n_y & - n_z \\end{pmatrix}\n",
    "$$\n",
    "\n",
    "So the characteristic equation is:\n",
    "\n",
    "$$\n",
    "(\\frac{\\hbar\\omega n_z}{2} - \\lambda)(-\\frac{\\hbar\\omega n_z}{2} - \\lambda) - \\frac{\\hbar^2 \\omega^2}{4}n_x^2 - \\frac{\\hbar^2 \\omega^2}{4}n_y^2 = 0 = -\\frac{\\hbar^2\\omega^2}{4} + \\lambda^2 \\Rightarrow \\lambda = \\pm \\frac{\\hbar \\omega}{2}\n",
    "$$\n",
    "\n",
    "Solving for the eigenvectors, we get:\n",
    "\n",
    "$$\n",
    "\\begin{pmatrix} n_z   & n_x - i n_y \\\\ n_x + i n_y & - n_z \\end{pmatrix} \\begin{pmatrix} \\alpha_0 \\\\ \\alpha_1 \\end{pmatrix} = \\begin{pmatrix} \\alpha_0 \\\\ \\alpha_1 \\end{pmatrix}\n",
    "$$"
   ]
  },
  {
   "cell_type": "markdown",
   "metadata": {},
   "source": [
    "\\begin{align}\n",
    "n_z\\alpha_0 + n_x\\alpha_1 - in_y\\alpha_1 &= \\alpha_0\\\\\n",
    "n_x\\alpha_0 + in_y\\alpha_0 - n_z\\alpha_1 &= \\alpha_1\\\\\n",
    "n_x^2 + n_y^2 + n_z^2 &= 1\n",
    "\\end{align}"
   ]
  },
  {
   "cell_type": "markdown",
   "metadata": {},
   "source": [
    "$$\n",
    "\\alpha_0 = \\frac{-n_x\\alpha_1 + in_y\\alpha_1}{n_z - 1}\n",
    "$$"
   ]
  },
  {
   "cell_type": "markdown",
   "metadata": {},
   "source": [
    "$$\n",
    "n_x \\frac{-n_x\\alpha_1 + in_y\\alpha_1}{n_z - 1} + in_y \\frac{-n_x\\alpha_1 + in_y\\alpha_1}{n_z - 1} - (n_z + 1)\\alpha_1 = 0\n",
    "$$"
   ]
  },
  {
   "cell_type": "markdown",
   "metadata": {},
   "source": [
    "$$\n",
    "-n_x^2 - n_y^2 - n_z^2 = -1 \\Rightarrow -n_x^2 - n_y^2 = -1 + n_z^2 = (n_z + 1)(n_z - 1)\n",
    "$$"
   ]
  },
  {
   "cell_type": "markdown",
   "metadata": {},
   "source": [
    "$$\n",
    "\\frac{-n_x^2 - n_y^2}{n_z - 1} - (n_z + 1) = 0\n",
    "$$"
   ]
  },
  {
   "cell_type": "markdown",
   "metadata": {},
   "source": [
    "## 4.13 Recipe for a Schrödinger Ket\n",
    "\n",
    "1. Derive, look up, borrow or steal or steal the Hamiltonian $\\mathbf{H}$.\n",
    "\n",
    "$$\n",
    "\\mathbf H = \\frac{\\omega\\hbar}{2}\\sigma_z\n",
    "$$\n",
    "\n",
    "2. Prepare $|\\psi(0)\\rangle$\n",
    "\n",
    "$$\n",
    "|\\psi(0)\\rangle = |u\\rangle\n",
    "$$\n",
    "\n",
    "3. Find the eigenvalues and eigenvectors of $\\mathbf{H}$ by solving the time-independent Schrödinger equation,\n",
    "\n",
    "$$\n",
    "\\mathbf{H}|E_j\\rangle = E_j|E_j\\rangle\n",
    "$$\n",
    "\n",
    "$$\n",
    "E_j = \\pm \\frac{\\omega\\hbar}{2}\n",
    "$$\n",
    "\n",
    "$$\n",
    "\n",
    "$$\n",
    "\n",
    "4. Use the initial state vector $|\\psi(0)\\rangle$ along with the eigenvectors $|E_j\\rangle$ from step 3, to calculate the initial coefficients $\\alpha_j(0)$\n",
    "\n",
    "$$\n",
    "|\\psi(0)\\rangle = \\sum_j{\\alpha_j(0)|E_j\\rangle}\n",
    "$$\n",
    "\n",
    "6. In the above equation, replace each $\\alpha_j(0)$ with $\\alpha_j(t)$ to capture it's time dependence. As a result, $|\\psi(0)\\rangle$ becomes $|\\psi(t)\\rangle$.\n",
    "\n",
    "$$\n",
    "|\\psi(t)\\rangle = \\sum_j{\\alpha_j(t)|E_j\\rangle}\n",
    "$$\n",
    "\n",
    "7. Using Eq 4.30, replace each $\\alpha_j(t)$ $\\alpha_j(0)e^{-\\frac{i}{\\hbar}E_jt}$\n",
    "\n",
    "$$\n",
    "|\\psi(t)\\rangle = \\sum_j{\\alpha_j(0)e^{-\\frac{i}{\\hbar}E_jt}|E_j\\rangle}\n",
    "$$\n"
   ]
  },
  {
   "cell_type": "markdown",
   "metadata": {},
   "source": [
    "## 4.14 Collapse"
   ]
  }
 ],
 "metadata": {
  "kernelspec": {
   "display_name": "Julia 1.7 1.7.0",
   "language": "julia",
   "name": "julia-1.7-1.7"
  },
  "language_info": {
   "file_extension": ".jl",
   "mimetype": "application/julia",
   "name": "julia",
   "version": "1.7.0"
  }
 },
 "nbformat": 4,
 "nbformat_minor": 2
}
