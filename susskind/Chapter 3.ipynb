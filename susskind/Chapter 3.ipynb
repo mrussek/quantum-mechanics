{
 "cells": [
  {
   "cell_type": "markdown",
   "metadata": {},
   "source": [
    "# Chapter 3: Principles of Quantum Mechanics\n",
    "\n",
    "## 3.1 Mathematical Interlude: Linear Operators\n",
    "\n",
    "**Exercise 3.1:** Prove the following: If a vector space is $N$-dimensional, an orthnormal basis of N vectors can be constructed from the eigenvectors of a Hermitian operator.\n",
    "\n",
    "**Note:** This is not true unless we only consider Hermitian operators of _full rank_. A Hermitian operator that is not full-rank will have a column space of dimension $M \\lt N$.\n",
    "\n",
    "Proof: By induction. For the base case we can simply observe that in $N = 1$ dimension(s), a Hermitian operator $H$ is a simply a real number (excluding zero) equal to it's single eigenvalue $\\lambda$. The associated eigenvector can be thought of as simply the one-dimensional vector $(1)$, which trivially spans the one-dimensional space.\n",
    "\n",
    "For the inductive step, we assume that the (orthogonalized) eigenvectors of $H$ are $\\mathbf{v_1} \\dots \\mathbf{v_N}$, which by the inductive hypothesis are orthogonal and normalized. We consider an $N+1$ dimensional extension of $H$, $\\tilde H$ with an additional eigenvector $\\mathbf{\\tilde v_{N+1}}$. Because we have assumed that $\\tilde H$ is full rank, we can exclude the possibility $\\mathbf{\\tilde v_{N+1}} = \\lambda \\mathbf v_i$ for $1\\le i \\le N, \\lambda \\in \\mathbb{R}$. Note that we can orthogonalize via the $\\mathbf{\\tilde v_{N+1}}$ via the Gram-Schmidt procedure to obtain $\\mathbf v_{N+1}$ which will be normalized and orthogonal to $\\mathbf v_1 \\dots \\mathbf v_N$. Therefore, we have constructed an orthonormal basis for an $N+1$ dimensional space from the eigenvectors of $H$.\n",
    "\n",
    "\n",
    "## 3.2 The Principles\n",
    "\n",
    "## 3.3 An Example: Spin Operators\n",
    "\n",
    "## 3.4 Constructing Spin Operators\n",
    "\n",
    "**Exercise 3.2:** Prove that Eq 3.16 is the unique solution to Eqs. 3.14 and 3.15.\n",
    "\n",
    "$$\n",
    "\\begin{pmatrix}\n",
    "(\\sigma_z)_{11} & (\\sigma_z)_{12} \\\\\n",
    "(\\sigma_z)_{21} & (\\sigma_z)_{22}\n",
    "\\end{pmatrix}\n",
    "\\begin{pmatrix}\n",
    "1 \\\\ 0\n",
    "\\end{pmatrix} = \\begin{pmatrix} 1\\\\0 \\end{pmatrix} \\Rightarrow \\\\\n",
    "(\\sigma_z)_{11} = 1 \\\\ (\\sigma_z)_{21} = 0\\\\\n",
    "$$\n",
    "$$\n",
    "\\begin{pmatrix}\n",
    "(\\sigma_z)_{11} & (\\sigma_z)_{12} \\\\\n",
    "(\\sigma_z)_{21} & (\\sigma_z)_{22}\n",
    "\\end{pmatrix}\n",
    "\\begin{pmatrix} 0 \\\\ 1 \\end{pmatrix} = \\begin{pmatrix} 0\\\\-1 \\end{pmatrix} \\Rightarrow \\\\\n",
    "(\\sigma_z)_{12} = 0 \\\\ (\\sigma_z)_{22} = -1\\\\\n",
    "$$\n",
    "\n",
    "So we have\n",
    "$$\n",
    "\\sigma_z = \\begin{pmatrix} (\\sigma_z)_{11} & (\\sigma_z)_{12} \\\\ (\\sigma_z)_{21} & (\\sigma_z)_{22}\\end{pmatrix} = \\begin{pmatrix} 1 & 0 \\\\ 0 & -1\\end{pmatrix}\n",
    "$$\n",
    "\n",
    "## 3.5 A Common Misconception\n",
    "\n",
    "## 3.6 3-Vector Operators Revisited\n",
    "\n",
    "## 3.7 Reaping the Results\n",
    "\n",
    "**Exercise 3.3:** Calculate the eigenvectors and eigenvalues of $\\sigma_n$. _Hint:_ Assume the eigenvector $\\lambda_1$ has the form\n",
    "\n",
    "$$\n",
    "\\begin{pmatrix}\n",
    "\\cos \\alpha \\\\ \\sin \\alpha\n",
    "\\end{pmatrix}\n",
    "$$\n",
    "\n",
    "where $\\alpha$ is an unknown parameter. Plug this vector into the eigenvalue equation and solve for $\\alpha$ in terms of $\\theta$. Why did we use a single parameter $\\alpha$? Notice that our suggested column vector must have unit length.\n",
    "\n",
    "The authors used a single parameter because two dimensional vectors of unit length are parameterized by a single paramter (the rotation a particular axis direction). The eigenvector can be assumed without loss of generality to be a unit vector since any scalar multiple of an eigenvector is still an eigenvector.\n",
    "\n",
    "$$\n",
    "\\sigma_n |\\lambda\\rangle = \\lambda |\\lambda\\rangle \\Rightarrow\n",
    "\\begin{pmatrix} \\cos \\theta & \\sin \\theta \\\\ \\sin \\theta & - \\cos \\theta \\end{pmatrix} \\begin{pmatrix} \\cos \\alpha \\\\ \\sin \\alpha \\end{pmatrix} = \\lambda_1 \\begin{pmatrix} \\cos \\alpha \\\\ \\sin \\alpha \\end{pmatrix} \\\\ \\Rightarrow \\cos \\theta \\cos \\alpha + \\sin \\theta \\sin \\alpha = \\lambda_1 \\cos \\alpha \\land \\sin \\theta \\cos \\alpha - \\cos \\theta \\sin \\alpha = \\lambda_1 \\sin \\alpha \\Rightarrow \\\\\n",
    "\\cos{(\\alpha - \\theta)} = \\lambda_1 \\cos \\alpha \\land \\sin{(\\theta - \\alpha)} = \\lambda_1 \\sin \\alpha \\Rightarrow \\\\\n",
    "(\\lambda_1 = 1 \\land \\alpha = \\frac{1}{2}\\theta) \\lor (\\lambda_1 = -1 \\land \\alpha = -\\frac{\\theta}{2})\n",
    "$$\n",
    "\n",
    "**Exercise 3.4:** Let $n_z = \\cos \\theta, n_x = \\sin \\theta \\cos \\phi$ and $n_y = \\sin \\theta \\sin \\phi$. Angles $\\theta$ and $\\phi$ are defined according to the usual conventions for spherical coordinates (Fig 3.2). Compute the eigenvalues and eigenvectors for the matrix of Eq. 3.23.\n",
    "\n",
    "**Exercise 3.5:** Suppose that a spin is prepared so that $\\sigma_m = +1$. The apparatus is then rotated to the $\\hat n$ direction and $\\sigma_n$ is measured. What is the probability that the result is $+1$? Note that $\\sigma_m = \\sigma \\cdot \\hat m$, using the same convention we used for $\\sigma_n$. \n",
    "\n",
    "## 3.8 The Spin-Polarization Principle\n"
   ]
  },
  {
   "cell_type": "code",
   "execution_count": 67,
   "metadata": {},
   "outputs": [
    {
     "data": {
      "text/plain": [
       "(-0.17936153301706081, 2.9130988137058624)"
      ]
     },
     "execution_count": 67,
     "metadata": {},
     "output_type": "execute_result"
    }
   ],
   "source": [
    "θ, α = 10*rand() - 5, 10*rand() - 5"
   ]
  },
  {
   "cell_type": "code",
   "execution_count": 68,
   "metadata": {},
   "outputs": [
    {
     "data": {
      "text/plain": [
       "true"
      ]
     },
     "execution_count": 68,
     "metadata": {},
     "output_type": "execute_result"
    }
   ],
   "source": [
    "-cos(α) ≈ cos(α + π)"
   ]
  },
  {
   "cell_type": "code",
   "execution_count": null,
   "metadata": {},
   "outputs": [],
   "source": []
  },
  {
   "cell_type": "code",
   "execution_count": 69,
   "metadata": {},
   "outputs": [],
   "source": [
    "using Plots"
   ]
  },
  {
   "cell_type": "code",
   "execution_count": 74,
   "metadata": {},
   "outputs": [
    {
     "data": {
      "image/svg+xml": [
       "<?xml version=\"1.0\" encoding=\"utf-8\"?>\n",
       "<svg xmlns=\"http://www.w3.org/2000/svg\" xmlns:xlink=\"http://www.w3.org/1999/xlink\" width=\"600\" height=\"400\" viewBox=\"0 0 2400 1600\">\n",
       "<defs>\n",
       "  <clipPath id=\"clip880\">\n",
       "    <rect x=\"0\" y=\"0\" width=\"2400\" height=\"1600\"/>\n",
       "  </clipPath>\n",
       "</defs>\n",
       "<path clip-path=\"url(#clip880)\" d=\"\n",
       "M0 1600 L2400 1600 L2400 0 L0 0  Z\n",
       "  \" fill=\"#ffffff\" fill-rule=\"evenodd\" fill-opacity=\"1\"/>\n",
       "<defs>\n",
       "  <clipPath id=\"clip881\">\n",
       "    <rect x=\"480\" y=\"0\" width=\"1681\" height=\"1600\"/>\n",
       "  </clipPath>\n",
       "</defs>\n",
       "<path clip-path=\"url(#clip880)\" d=\"\n",
       "M193.936 1486.45 L2352.76 1486.45 L2352.76 47.2441 L193.936 47.2441  Z\n",
       "  \" fill=\"#ffffff\" fill-rule=\"evenodd\" fill-opacity=\"1\"/>\n",
       "<defs>\n",
       "  <clipPath id=\"clip882\">\n",
       "    <rect x=\"193\" y=\"47\" width=\"2160\" height=\"1440\"/>\n",
       "  </clipPath>\n",
       "</defs>\n",
       "<polyline clip-path=\"url(#clip882)\" style=\"stroke:#000000; stroke-linecap:butt; stroke-linejoin:round; stroke-width:2; stroke-opacity:0.1; fill:none\" points=\"\n",
       "  458.697,1486.45 458.697,47.2441 \n",
       "  \"/>\n",
       "<polyline clip-path=\"url(#clip882)\" style=\"stroke:#000000; stroke-linecap:butt; stroke-linejoin:round; stroke-width:2; stroke-opacity:0.1; fill:none\" points=\"\n",
       "  866.021,1486.45 866.021,47.2441 \n",
       "  \"/>\n",
       "<polyline clip-path=\"url(#clip882)\" style=\"stroke:#000000; stroke-linecap:butt; stroke-linejoin:round; stroke-width:2; stroke-opacity:0.1; fill:none\" points=\"\n",
       "  1273.35,1486.45 1273.35,47.2441 \n",
       "  \"/>\n",
       "<polyline clip-path=\"url(#clip882)\" style=\"stroke:#000000; stroke-linecap:butt; stroke-linejoin:round; stroke-width:2; stroke-opacity:0.1; fill:none\" points=\"\n",
       "  1680.67,1486.45 1680.67,47.2441 \n",
       "  \"/>\n",
       "<polyline clip-path=\"url(#clip882)\" style=\"stroke:#000000; stroke-linecap:butt; stroke-linejoin:round; stroke-width:2; stroke-opacity:0.1; fill:none\" points=\"\n",
       "  2087.99,1486.45 2087.99,47.2441 \n",
       "  \"/>\n",
       "<polyline clip-path=\"url(#clip880)\" style=\"stroke:#000000; stroke-linecap:butt; stroke-linejoin:round; stroke-width:4; stroke-opacity:1; fill:none\" points=\"\n",
       "  193.936,1486.45 2352.76,1486.45 \n",
       "  \"/>\n",
       "<polyline clip-path=\"url(#clip880)\" style=\"stroke:#000000; stroke-linecap:butt; stroke-linejoin:round; stroke-width:4; stroke-opacity:1; fill:none\" points=\"\n",
       "  458.697,1486.45 458.697,1467.55 \n",
       "  \"/>\n",
       "<polyline clip-path=\"url(#clip880)\" style=\"stroke:#000000; stroke-linecap:butt; stroke-linejoin:round; stroke-width:4; stroke-opacity:1; fill:none\" points=\"\n",
       "  866.021,1486.45 866.021,1467.55 \n",
       "  \"/>\n",
       "<polyline clip-path=\"url(#clip880)\" style=\"stroke:#000000; stroke-linecap:butt; stroke-linejoin:round; stroke-width:4; stroke-opacity:1; fill:none\" points=\"\n",
       "  1273.35,1486.45 1273.35,1467.55 \n",
       "  \"/>\n",
       "<polyline clip-path=\"url(#clip880)\" style=\"stroke:#000000; stroke-linecap:butt; stroke-linejoin:round; stroke-width:4; stroke-opacity:1; fill:none\" points=\"\n",
       "  1680.67,1486.45 1680.67,1467.55 \n",
       "  \"/>\n",
       "<polyline clip-path=\"url(#clip880)\" style=\"stroke:#000000; stroke-linecap:butt; stroke-linejoin:round; stroke-width:4; stroke-opacity:1; fill:none\" points=\"\n",
       "  2087.99,1486.45 2087.99,1467.55 \n",
       "  \"/>\n",
       "<path clip-path=\"url(#clip880)\" d=\"M427.598 1532.02 L457.273 1532.02 L457.273 1535.95 L427.598 1535.95 L427.598 1532.02 Z\" fill=\"#000000\" fill-rule=\"evenodd\" fill-opacity=\"1\" /><path clip-path=\"url(#clip880)\" d=\"M480.213 1518.36 L468.408 1536.81 L480.213 1536.81 L480.213 1518.36 M478.986 1514.29 L484.866 1514.29 L484.866 1536.81 L489.796 1536.81 L489.796 1540.7 L484.866 1540.7 L484.866 1548.85 L480.213 1548.85 L480.213 1540.7 L464.611 1540.7 L464.611 1536.19 L478.986 1514.29 Z\" fill=\"#000000\" fill-rule=\"evenodd\" fill-opacity=\"1\" /><path clip-path=\"url(#clip880)\" d=\"M835.964 1532.02 L865.639 1532.02 L865.639 1535.95 L835.964 1535.95 L835.964 1532.02 Z\" fill=\"#000000\" fill-rule=\"evenodd\" fill-opacity=\"1\" /><path clip-path=\"url(#clip880)\" d=\"M879.76 1544.91 L896.079 1544.91 L896.079 1548.85 L874.135 1548.85 L874.135 1544.91 Q876.797 1542.16 881.38 1537.53 Q885.987 1532.88 887.167 1531.53 Q889.413 1529.01 890.292 1527.27 Q891.195 1525.51 891.195 1523.82 Q891.195 1521.07 889.25 1519.33 Q887.329 1517.6 884.227 1517.6 Q882.028 1517.6 879.575 1518.36 Q877.144 1519.13 874.366 1520.68 L874.366 1515.95 Q877.19 1514.82 879.644 1514.24 Q882.098 1513.66 884.135 1513.66 Q889.505 1513.66 892.7 1516.35 Q895.894 1519.03 895.894 1523.52 Q895.894 1525.65 895.084 1527.57 Q894.297 1529.47 892.19 1532.07 Q891.612 1532.74 888.51 1535.95 Q885.408 1539.15 879.76 1544.91 Z\" fill=\"#000000\" fill-rule=\"evenodd\" fill-opacity=\"1\" /><path clip-path=\"url(#clip880)\" d=\"M1273.35 1517.37 Q1269.73 1517.37 1267.91 1520.93 Q1266.1 1524.47 1266.1 1531.6 Q1266.1 1538.71 1267.91 1542.27 Q1269.73 1545.82 1273.35 1545.82 Q1276.98 1545.82 1278.79 1542.27 Q1280.61 1538.71 1280.61 1531.6 Q1280.61 1524.47 1278.79 1520.93 Q1276.98 1517.37 1273.35 1517.37 M1273.35 1513.66 Q1279.16 1513.66 1282.21 1518.27 Q1285.29 1522.85 1285.29 1531.6 Q1285.29 1540.33 1282.21 1544.94 Q1279.16 1549.52 1273.35 1549.52 Q1267.54 1549.52 1264.46 1544.94 Q1261.4 1540.33 1261.4 1531.6 Q1261.4 1522.85 1264.46 1518.27 Q1267.54 1513.66 1273.35 1513.66 Z\" fill=\"#000000\" fill-rule=\"evenodd\" fill-opacity=\"1\" /><path clip-path=\"url(#clip880)\" d=\"M1675.32 1544.91 L1691.64 1544.91 L1691.64 1548.85 L1669.7 1548.85 L1669.7 1544.91 Q1672.36 1542.16 1676.94 1537.53 Q1681.55 1532.88 1682.73 1531.53 Q1684.98 1529.01 1685.86 1527.27 Q1686.76 1525.51 1686.76 1523.82 Q1686.76 1521.07 1684.81 1519.33 Q1682.89 1517.6 1679.79 1517.6 Q1677.59 1517.6 1675.14 1518.36 Q1672.71 1519.13 1669.93 1520.68 L1669.93 1515.95 Q1672.75 1514.82 1675.21 1514.24 Q1677.66 1513.66 1679.7 1513.66 Q1685.07 1513.66 1688.26 1516.35 Q1691.46 1519.03 1691.46 1523.52 Q1691.46 1525.65 1690.65 1527.57 Q1689.86 1529.47 1687.75 1532.07 Q1687.18 1532.74 1684.07 1535.95 Q1680.97 1539.15 1675.32 1544.91 Z\" fill=\"#000000\" fill-rule=\"evenodd\" fill-opacity=\"1\" /><path clip-path=\"url(#clip880)\" d=\"M2091 1518.36 L2079.2 1536.81 L2091 1536.81 L2091 1518.36 M2089.78 1514.29 L2095.66 1514.29 L2095.66 1536.81 L2100.59 1536.81 L2100.59 1540.7 L2095.66 1540.7 L2095.66 1548.85 L2091 1548.85 L2091 1540.7 L2075.4 1540.7 L2075.4 1536.19 L2089.78 1514.29 Z\" fill=\"#000000\" fill-rule=\"evenodd\" fill-opacity=\"1\" /><polyline clip-path=\"url(#clip882)\" style=\"stroke:#000000; stroke-linecap:butt; stroke-linejoin:round; stroke-width:2; stroke-opacity:0.1; fill:none\" points=\"\n",
       "  193.936,1445.87 2352.76,1445.87 \n",
       "  \"/>\n",
       "<polyline clip-path=\"url(#clip882)\" style=\"stroke:#000000; stroke-linecap:butt; stroke-linejoin:round; stroke-width:2; stroke-opacity:0.1; fill:none\" points=\"\n",
       "  193.936,1106.34 2352.76,1106.34 \n",
       "  \"/>\n",
       "<polyline clip-path=\"url(#clip882)\" style=\"stroke:#000000; stroke-linecap:butt; stroke-linejoin:round; stroke-width:2; stroke-opacity:0.1; fill:none\" points=\"\n",
       "  193.936,766.819 2352.76,766.819 \n",
       "  \"/>\n",
       "<polyline clip-path=\"url(#clip882)\" style=\"stroke:#000000; stroke-linecap:butt; stroke-linejoin:round; stroke-width:2; stroke-opacity:0.1; fill:none\" points=\"\n",
       "  193.936,427.294 2352.76,427.294 \n",
       "  \"/>\n",
       "<polyline clip-path=\"url(#clip882)\" style=\"stroke:#000000; stroke-linecap:butt; stroke-linejoin:round; stroke-width:2; stroke-opacity:0.1; fill:none\" points=\"\n",
       "  193.936,87.7695 2352.76,87.7695 \n",
       "  \"/>\n",
       "<polyline clip-path=\"url(#clip880)\" style=\"stroke:#000000; stroke-linecap:butt; stroke-linejoin:round; stroke-width:4; stroke-opacity:1; fill:none\" points=\"\n",
       "  193.936,1486.45 193.936,47.2441 \n",
       "  \"/>\n",
       "<polyline clip-path=\"url(#clip880)\" style=\"stroke:#000000; stroke-linecap:butt; stroke-linejoin:round; stroke-width:4; stroke-opacity:1; fill:none\" points=\"\n",
       "  193.936,1445.87 212.834,1445.87 \n",
       "  \"/>\n",
       "<polyline clip-path=\"url(#clip880)\" style=\"stroke:#000000; stroke-linecap:butt; stroke-linejoin:round; stroke-width:4; stroke-opacity:1; fill:none\" points=\"\n",
       "  193.936,1106.34 212.834,1106.34 \n",
       "  \"/>\n",
       "<polyline clip-path=\"url(#clip880)\" style=\"stroke:#000000; stroke-linecap:butt; stroke-linejoin:round; stroke-width:4; stroke-opacity:1; fill:none\" points=\"\n",
       "  193.936,766.819 212.834,766.819 \n",
       "  \"/>\n",
       "<polyline clip-path=\"url(#clip880)\" style=\"stroke:#000000; stroke-linecap:butt; stroke-linejoin:round; stroke-width:4; stroke-opacity:1; fill:none\" points=\"\n",
       "  193.936,427.294 212.834,427.294 \n",
       "  \"/>\n",
       "<polyline clip-path=\"url(#clip880)\" style=\"stroke:#000000; stroke-linecap:butt; stroke-linejoin:round; stroke-width:4; stroke-opacity:1; fill:none\" points=\"\n",
       "  193.936,87.7695 212.834,87.7695 \n",
       "  \"/>\n",
       "<path clip-path=\"url(#clip880)\" d=\"M50.9921 1446.32 L80.6679 1446.32 L80.6679 1450.26 L50.9921 1450.26 L50.9921 1446.32 Z\" fill=\"#000000\" fill-rule=\"evenodd\" fill-opacity=\"1\" /><path clip-path=\"url(#clip880)\" d=\"M91.5706 1459.21 L99.2095 1459.21 L99.2095 1432.85 L90.8993 1434.51 L90.8993 1430.26 L99.1632 1428.59 L103.839 1428.59 L103.839 1459.21 L111.478 1459.21 L111.478 1463.15 L91.5706 1463.15 L91.5706 1459.21 Z\" fill=\"#000000\" fill-rule=\"evenodd\" fill-opacity=\"1\" /><path clip-path=\"url(#clip880)\" d=\"M120.922 1457.27 L125.807 1457.27 L125.807 1463.15 L120.922 1463.15 L120.922 1457.27 Z\" fill=\"#000000\" fill-rule=\"evenodd\" fill-opacity=\"1\" /><path clip-path=\"url(#clip880)\" d=\"M145.992 1431.67 Q142.381 1431.67 140.552 1435.23 Q138.746 1438.77 138.746 1445.9 Q138.746 1453.01 140.552 1456.58 Q142.381 1460.12 145.992 1460.12 Q149.626 1460.12 151.431 1456.58 Q153.26 1453.01 153.26 1445.9 Q153.26 1438.77 151.431 1435.23 Q149.626 1431.67 145.992 1431.67 M145.992 1427.96 Q151.802 1427.96 154.857 1432.57 Q157.936 1437.15 157.936 1445.9 Q157.936 1454.63 154.857 1459.24 Q151.802 1463.82 145.992 1463.82 Q140.181 1463.82 137.103 1459.24 Q134.047 1454.63 134.047 1445.9 Q134.047 1437.15 137.103 1432.57 Q140.181 1427.96 145.992 1427.96 Z\" fill=\"#000000\" fill-rule=\"evenodd\" fill-opacity=\"1\" /><path clip-path=\"url(#clip880)\" d=\"M51.9875 1106.8 L81.6633 1106.8 L81.6633 1110.73 L51.9875 1110.73 L51.9875 1106.8 Z\" fill=\"#000000\" fill-rule=\"evenodd\" fill-opacity=\"1\" /><path clip-path=\"url(#clip880)\" d=\"M101.756 1092.14 Q98.1447 1092.14 96.316 1095.71 Q94.5104 1099.25 94.5104 1106.38 Q94.5104 1113.49 96.316 1117.05 Q98.1447 1120.59 101.756 1120.59 Q105.39 1120.59 107.196 1117.05 Q109.024 1113.49 109.024 1106.38 Q109.024 1099.25 107.196 1095.71 Q105.39 1092.14 101.756 1092.14 M101.756 1088.44 Q107.566 1088.44 110.621 1093.05 Q113.7 1097.63 113.7 1106.38 Q113.7 1115.11 110.621 1119.71 Q107.566 1124.3 101.756 1124.3 Q95.9456 1124.3 92.8669 1119.71 Q89.8114 1115.11 89.8114 1106.38 Q89.8114 1097.63 92.8669 1093.05 Q95.9456 1088.44 101.756 1088.44 Z\" fill=\"#000000\" fill-rule=\"evenodd\" fill-opacity=\"1\" /><path clip-path=\"url(#clip880)\" d=\"M121.918 1117.74 L126.802 1117.74 L126.802 1123.62 L121.918 1123.62 L121.918 1117.74 Z\" fill=\"#000000\" fill-rule=\"evenodd\" fill-opacity=\"1\" /><path clip-path=\"url(#clip880)\" d=\"M137.033 1089.06 L155.39 1089.06 L155.39 1093 L141.316 1093 L141.316 1101.47 Q142.334 1101.12 143.353 1100.96 Q144.371 1100.78 145.39 1100.78 Q151.177 1100.78 154.556 1103.95 Q157.936 1107.12 157.936 1112.54 Q157.936 1118.11 154.464 1121.22 Q150.992 1124.3 144.672 1124.3 Q142.496 1124.3 140.228 1123.93 Q137.982 1123.55 135.575 1122.81 L135.575 1118.11 Q137.658 1119.25 139.881 1119.8 Q142.103 1120.36 144.58 1120.36 Q148.584 1120.36 150.922 1118.25 Q153.26 1116.15 153.26 1112.54 Q153.26 1108.93 150.922 1106.82 Q148.584 1104.71 144.58 1104.71 Q142.705 1104.71 140.83 1105.13 Q138.978 1105.55 137.033 1106.43 L137.033 1089.06 Z\" fill=\"#000000\" fill-rule=\"evenodd\" fill-opacity=\"1\" /><path clip-path=\"url(#clip880)\" d=\"M100.76 752.618 Q97.1493 752.618 95.3206 756.183 Q93.515 759.724 93.515 766.854 Q93.515 773.96 95.3206 777.525 Q97.1493 781.067 100.76 781.067 Q104.395 781.067 106.2 777.525 Q108.029 773.96 108.029 766.854 Q108.029 759.724 106.2 756.183 Q104.395 752.618 100.76 752.618 M100.76 748.914 Q106.571 748.914 109.626 753.521 Q112.705 758.104 112.705 766.854 Q112.705 775.581 109.626 780.187 Q106.571 784.771 100.76 784.771 Q94.9502 784.771 91.8715 780.187 Q88.816 775.581 88.816 766.854 Q88.816 758.104 91.8715 753.521 Q94.9502 748.914 100.76 748.914 Z\" fill=\"#000000\" fill-rule=\"evenodd\" fill-opacity=\"1\" /><path clip-path=\"url(#clip880)\" d=\"M120.922 778.22 L125.807 778.22 L125.807 784.099 L120.922 784.099 L120.922 778.22 Z\" fill=\"#000000\" fill-rule=\"evenodd\" fill-opacity=\"1\" /><path clip-path=\"url(#clip880)\" d=\"M145.992 752.618 Q142.381 752.618 140.552 756.183 Q138.746 759.724 138.746 766.854 Q138.746 773.96 140.552 777.525 Q142.381 781.067 145.992 781.067 Q149.626 781.067 151.431 777.525 Q153.26 773.96 153.26 766.854 Q153.26 759.724 151.431 756.183 Q149.626 752.618 145.992 752.618 M145.992 748.914 Q151.802 748.914 154.857 753.521 Q157.936 758.104 157.936 766.854 Q157.936 775.581 154.857 780.187 Q151.802 784.771 145.992 784.771 Q140.181 784.771 137.103 780.187 Q134.047 775.581 134.047 766.854 Q134.047 758.104 137.103 753.521 Q140.181 748.914 145.992 748.914 Z\" fill=\"#000000\" fill-rule=\"evenodd\" fill-opacity=\"1\" /><path clip-path=\"url(#clip880)\" d=\"M101.756 413.093 Q98.1447 413.093 96.316 416.658 Q94.5104 420.2 94.5104 427.329 Q94.5104 434.436 96.316 438 Q98.1447 441.542 101.756 441.542 Q105.39 441.542 107.196 438 Q109.024 434.436 109.024 427.329 Q109.024 420.2 107.196 416.658 Q105.39 413.093 101.756 413.093 M101.756 409.389 Q107.566 409.389 110.621 413.996 Q113.7 418.579 113.7 427.329 Q113.7 436.056 110.621 440.662 Q107.566 445.246 101.756 445.246 Q95.9456 445.246 92.8669 440.662 Q89.8114 436.056 89.8114 427.329 Q89.8114 418.579 92.8669 413.996 Q95.9456 409.389 101.756 409.389 Z\" fill=\"#000000\" fill-rule=\"evenodd\" fill-opacity=\"1\" /><path clip-path=\"url(#clip880)\" d=\"M121.918 438.695 L126.802 438.695 L126.802 444.574 L121.918 444.574 L121.918 438.695 Z\" fill=\"#000000\" fill-rule=\"evenodd\" fill-opacity=\"1\" /><path clip-path=\"url(#clip880)\" d=\"M137.033 410.014 L155.39 410.014 L155.39 413.95 L141.316 413.95 L141.316 422.422 Q142.334 422.075 143.353 421.913 Q144.371 421.727 145.39 421.727 Q151.177 421.727 154.556 424.899 Q157.936 428.07 157.936 433.487 Q157.936 439.065 154.464 442.167 Q150.992 445.246 144.672 445.246 Q142.496 445.246 140.228 444.875 Q137.982 444.505 135.575 443.764 L135.575 439.065 Q137.658 440.199 139.881 440.755 Q142.103 441.311 144.58 441.311 Q148.584 441.311 150.922 439.204 Q153.26 437.098 153.26 433.487 Q153.26 429.875 150.922 427.769 Q148.584 425.662 144.58 425.662 Q142.705 425.662 140.83 426.079 Q138.978 426.496 137.033 427.375 L137.033 410.014 Z\" fill=\"#000000\" fill-rule=\"evenodd\" fill-opacity=\"1\" /><path clip-path=\"url(#clip880)\" d=\"M91.5706 101.114 L99.2095 101.114 L99.2095 74.7488 L90.8993 76.4154 L90.8993 72.1562 L99.1632 70.4895 L103.839 70.4895 L103.839 101.114 L111.478 101.114 L111.478 105.05 L91.5706 105.05 L91.5706 101.114 Z\" fill=\"#000000\" fill-rule=\"evenodd\" fill-opacity=\"1\" /><path clip-path=\"url(#clip880)\" d=\"M120.922 99.1699 L125.807 99.1699 L125.807 105.05 L120.922 105.05 L120.922 99.1699 Z\" fill=\"#000000\" fill-rule=\"evenodd\" fill-opacity=\"1\" /><path clip-path=\"url(#clip880)\" d=\"M145.992 73.5682 Q142.381 73.5682 140.552 77.133 Q138.746 80.6747 138.746 87.8043 Q138.746 94.9107 140.552 98.4755 Q142.381 102.017 145.992 102.017 Q149.626 102.017 151.431 98.4755 Q153.26 94.9107 153.26 87.8043 Q153.26 80.6747 151.431 77.133 Q149.626 73.5682 145.992 73.5682 M145.992 69.8645 Q151.802 69.8645 154.857 74.471 Q157.936 79.0543 157.936 87.8043 Q157.936 96.5311 154.857 101.138 Q151.802 105.721 145.992 105.721 Q140.181 105.721 137.103 101.138 Q134.047 96.5311 134.047 87.8043 Q134.047 79.0543 137.103 74.471 Q140.181 69.8645 145.992 69.8645 Z\" fill=\"#000000\" fill-rule=\"evenodd\" fill-opacity=\"1\" /><polyline clip-path=\"url(#clip882)\" style=\"stroke:#009af9; stroke-linecap:butt; stroke-linejoin:round; stroke-width:4; stroke-opacity:1; fill:none\" points=\"\n",
       "  255.035,115.662 260.007,111.154 264.979,107.036 269.952,103.312 274.924,99.9835 297.912,89.7857 320.9,88.2045 343.888,95.26 366.877,110.862 389.865,134.813 \n",
       "  412.853,166.808 435.841,206.438 458.829,253.201 486.459,317.997 514.089,391.04 541.719,470.989 569.348,556.375 616.07,708.701 662.791,864.073 713.544,1026.81 \n",
       "  764.296,1173.49 787.691,1233.14 811.085,1286.65 834.48,1333.3 857.875,1372.48 882.956,1405.61 908.038,1429.07 933.119,1442.49 958.201,1445.68 987.26,1436.52 \n",
       "  1016.32,1413.75 1045.38,1377.84 1074.44,1329.5 1100.26,1276.91 1126.09,1216.13 1151.91,1148.14 1177.74,1074.02 1223.03,932.886 1268.32,783.574 1317.7,620.099 \n",
       "  1367.08,465.208 1391.92,393.438 1416.75,327.214 1441.59,267.52 1466.43,215.242 1493.89,167.007 1521.35,129.66 1548.81,103.878 1576.27,90.1309 1602.4,88.453 \n",
       "  1628.52,97.9245 1654.65,118.39 1680.78,149.512 1707.95,192.622 1735.11,245.934 1762.28,308.501 1789.45,379.21 1835.18,513.106 1880.92,659.744 1936.76,845.301 \n",
       "  1992.6,1024.99 2018.85,1103.57 2045.09,1176.55 2071.34,1242.75 2097.58,1301.05 2118.61,1341.4 2139.63,1375.63 2160.65,1403.38 2181.68,1424.35 2202.7,1438.33 \n",
       "  2223.73,1445.15 2244.75,1444.75 2265.77,1437.14 2272.24,1433.35 2278.72,1428.89 2285.19,1423.77 2291.66,1417.98 \n",
       "  \"/>\n",
       "<polyline clip-path=\"url(#clip882)\" style=\"stroke:#e26f46; stroke-linecap:butt; stroke-linejoin:round; stroke-width:4; stroke-opacity:1; fill:none\" points=\"\n",
       "  255.035,574.199 260.007,590.152 264.979,606.211 269.952,622.366 274.924,638.606 320.9,791.121 366.877,942.402 412.853,1084.77 458.829,1211.01 486.459,1276.39 \n",
       "  514.089,1332.42 541.719,1378.04 569.348,1412.44 592.709,1432.28 616.07,1443.38 639.431,1445.58 662.791,1438.87 688.167,1421.57 713.544,1394.12 738.92,1356.95 \n",
       "  764.296,1310.62 787.691,1260.43 811.085,1203.73 834.48,1141.27 857.875,1073.87 908.038,916.929 958.201,750.927 1016.32,560.462 1074.44,386.688 1100.26,318.582 \n",
       "  1126.09,257.674 1151.91,204.941 1177.74,161.231 1200.38,130.883 1223.03,108.389 1245.67,94.0277 1268.32,87.9763 1293.01,90.9323 1317.7,103.81 1342.39,126.419 \n",
       "  1367.08,158.429 1391.92,199.638 1416.75,249.272 1441.59,306.593 1466.43,370.75 1521.35,532.008 1576.27,710.239 1628.52,883.816 1680.78,1049.73 1707.95,1129.32 \n",
       "  1735.11,1202.47 1762.28,1267.87 1789.45,1324.37 1812.31,1364.3 1835.18,1396.69 1858.05,1421.15 1880.92,1437.37 1908.84,1445.72 1936.76,1441.32 1964.68,1424.27 \n",
       "  1992.6,1394.88 2018.85,1356.49 2045.09,1308.32 2071.34,1251.18 2097.58,1186 2139.63,1067.58 2181.68,936.394 2223.73,798.002 2265.77,658.286 2272.24,637.046 \n",
       "  2278.72,615.938 2285.19,594.981 2291.66,574.199 \n",
       "  \"/>\n",
       "<path clip-path=\"url(#clip880)\" d=\"\n",
       "M1988.5 250.738 L2280.8 250.738 L2280.8 95.2176 L1988.5 95.2176  Z\n",
       "  \" fill=\"#ffffff\" fill-rule=\"evenodd\" fill-opacity=\"1\"/>\n",
       "<polyline clip-path=\"url(#clip880)\" style=\"stroke:#000000; stroke-linecap:butt; stroke-linejoin:round; stroke-width:4; stroke-opacity:1; fill:none\" points=\"\n",
       "  1988.5,250.738 2280.8,250.738 2280.8,95.2176 1988.5,95.2176 1988.5,250.738 \n",
       "  \"/>\n",
       "<polyline clip-path=\"url(#clip880)\" style=\"stroke:#009af9; stroke-linecap:butt; stroke-linejoin:round; stroke-width:4; stroke-opacity:1; fill:none\" points=\"\n",
       "  2012.48,147.058 2156.4,147.058 \n",
       "  \"/>\n",
       "<path clip-path=\"url(#clip880)\" d=\"M2194.23 166.745 Q2192.43 171.375 2190.72 172.787 Q2189 174.199 2186.13 174.199 L2182.73 174.199 L2182.73 170.634 L2185.23 170.634 Q2186.99 170.634 2187.96 169.8 Q2188.93 168.967 2190.11 165.865 L2190.88 163.921 L2180.39 138.412 L2184.91 138.412 L2193.01 158.689 L2201.11 138.412 L2205.62 138.412 L2194.23 166.745 Z\" fill=\"#000000\" fill-rule=\"evenodd\" fill-opacity=\"1\" /><path clip-path=\"url(#clip880)\" d=\"M2212.91 160.402 L2220.55 160.402 L2220.55 134.037 L2212.24 135.703 L2212.24 131.444 L2220.51 129.778 L2225.18 129.778 L2225.18 160.402 L2232.82 160.402 L2232.82 164.338 L2212.91 164.338 L2212.91 160.402 Z\" fill=\"#000000\" fill-rule=\"evenodd\" fill-opacity=\"1\" /><polyline clip-path=\"url(#clip880)\" style=\"stroke:#e26f46; stroke-linecap:butt; stroke-linejoin:round; stroke-width:4; stroke-opacity:1; fill:none\" points=\"\n",
       "  2012.48,198.898 2156.4,198.898 \n",
       "  \"/>\n",
       "<path clip-path=\"url(#clip880)\" d=\"M2194.23 218.585 Q2192.43 223.215 2190.72 224.627 Q2189 226.039 2186.13 226.039 L2182.73 226.039 L2182.73 222.474 L2185.23 222.474 Q2186.99 222.474 2187.96 221.64 Q2188.93 220.807 2190.11 217.705 L2190.88 215.761 L2180.39 190.252 L2184.91 190.252 L2193.01 210.529 L2201.11 190.252 L2205.62 190.252 L2194.23 218.585 Z\" fill=\"#000000\" fill-rule=\"evenodd\" fill-opacity=\"1\" /><path clip-path=\"url(#clip880)\" d=\"M2216.13 212.242 L2232.45 212.242 L2232.45 216.178 L2210.51 216.178 L2210.51 212.242 Q2213.17 209.488 2217.75 204.858 Q2222.36 200.205 2223.54 198.863 Q2225.78 196.34 2226.66 194.604 Q2227.57 192.844 2227.57 191.155 Q2227.57 188.4 2225.62 186.664 Q2223.7 184.928 2220.6 184.928 Q2218.4 184.928 2215.95 185.692 Q2213.52 186.455 2210.74 188.006 L2210.74 183.284 Q2213.56 182.15 2216.02 181.571 Q2218.47 180.993 2220.51 180.993 Q2225.88 180.993 2229.07 183.678 Q2232.27 186.363 2232.27 190.854 Q2232.27 192.983 2231.46 194.905 Q2230.67 196.803 2228.56 199.395 Q2227.98 200.067 2224.88 203.284 Q2221.78 206.479 2216.13 212.242 Z\" fill=\"#000000\" fill-rule=\"evenodd\" fill-opacity=\"1\" /></svg>\n"
      ]
     },
     "execution_count": 74,
     "metadata": {},
     "output_type": "execute_result"
    }
   ],
   "source": [
    "plot([sin cos])"
   ]
  },
  {
   "cell_type": "markdown",
   "metadata": {},
   "source": [
    "$$\n",
    "\\theta = \\pi + 2\\alpha \\\\\n",
    "\\begin{pmatrix}\n",
    "\\cos{\\frac{\\theta}{2} - \\frac{\\pi}{2}} \\\\\n",
    "\\sin{\\frac{\\theta}{2} - \\frac{\\pi}{2}} \\\\\\\n",
    "\\end{pmatrix}\n",
    "$$"
   ]
  },
  {
   "cell_type": "markdown",
   "metadata": {},
   "source": [
    "$$\n",
    "\\cos(\\theta - \\alpha) = - \\cos \\alpha \\\\\n",
    "\\sin(\\theta - \\alpha) = - \\sin \\alpha \n",
    "$$"
   ]
  },
  {
   "cell_type": "markdown",
   "metadata": {},
   "source": [
    "$$\n",
    "\\mathbf{A}(\\mathbf{\\alpha v_1 + \\beta v_2}) = \\lambda(\\alpha \\mathbf{v_1} + \\beta \\mathbf{v_2})\n",
    "$$"
   ]
  },
  {
   "cell_type": "code",
   "execution_count": 2,
   "metadata": {},
   "outputs": [],
   "source": [
    "using LinearAlgebra"
   ]
  },
  {
   "cell_type": "code",
   "execution_count": 35,
   "metadata": {},
   "outputs": [
    {
     "data": {
      "text/plain": [
       "3×3 Hermitian{Complex{Int64}, Matrix{Complex{Int64}}}:\n",
       " 7+0im   4+1im  4+6im\n",
       " 4-1im  10+0im  3+9im\n",
       " 4-6im   3-9im  8+0im"
      ]
     },
     "execution_count": 35,
     "metadata": {},
     "output_type": "execute_result"
    }
   ],
   "source": [
    "A = Hermitian(rand(1:10, (3, 3)) + rand(1:10, (3, 3))*1im)"
   ]
  },
  {
   "cell_type": "code",
   "execution_count": 36,
   "metadata": {},
   "outputs": [
    {
     "data": {
      "text/plain": [
       "3-element Vector{Float64}:\n",
       " -2.1938830331315073\n",
       "  4.752925459730522\n",
       " 22.440957573400986"
      ]
     },
     "execution_count": 36,
     "metadata": {},
     "output_type": "execute_result"
    }
   ],
   "source": [
    "V = eigvecs(A)\n",
    "λ = eigvals(A)"
   ]
  },
  {
   "cell_type": "code",
   "execution_count": 48,
   "metadata": {},
   "outputs": [
    {
     "data": {
      "text/plain": [
       "-4.163336342344337e-17 + 5.551115123125783e-17im"
      ]
     },
     "execution_count": 48,
     "metadata": {},
     "output_type": "execute_result"
    }
   ],
   "source": [
    "(V[:,1]' * V[:,2])"
   ]
  },
  {
   "cell_type": "code",
   "execution_count": 40,
   "metadata": {},
   "outputs": [
    {
     "data": {
      "text/plain": [
       "3-element Vector{ComplexF64}:\n",
       "  0.7871694214521116 + 0.5874820548274562im\n",
       " 0.09598366829682473 + 1.078980441358088im\n",
       "  -1.635524454979427 - 0.0im"
      ]
     },
     "execution_count": 40,
     "metadata": {},
     "output_type": "execute_result"
    }
   ],
   "source": [
    " λ[1] * V[:,1]"
   ]
  }
 ],
 "metadata": {
  "kernelspec": {
   "display_name": "Julia 1.7 1.7.0",
   "language": "julia",
   "name": "julia-1.7-1.7"
  },
  "language_info": {
   "file_extension": ".jl",
   "mimetype": "application/julia",
   "name": "julia",
   "version": "1.7.0"
  }
 },
 "nbformat": 4,
 "nbformat_minor": 2
}
