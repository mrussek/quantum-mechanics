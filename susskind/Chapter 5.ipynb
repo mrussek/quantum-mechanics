{
 "cells": [
  {
   "cell_type": "markdown",
   "metadata": {},
   "source": [
    "# Chapter 5: Uncertainty and Time Dependence\n",
    "$$\n",
    "\\newcommand{\\ket}[1]{{|#1\\rangle}}\n",
    "\\newcommand{\\bra}[1]{{\\langle#1|}}\n",
    "\\newcommand{\\exp}[1]{{\\langle#1\\rangle}}\n",
    "\\newcommand{\\op}[1]{{\\mathbf{#1}}}\n",
    "$$"
   ]
  },
  {
   "cell_type": "markdown",
   "metadata": {},
   "source": [
    "## 5.1 Mathematical Interlude: Complete Sets of Commuting Variables"
   ]
  },
  {
   "cell_type": "markdown",
   "metadata": {},
   "source": [
    "### 5.1.1 States That Depend On More Than One Measurable\n",
    "\n",
    "Spin states can be fully specified as the value of a single observable. No other spin components can be known.\n",
    "\n",
    "However, there are more complicated systems that we would like to be able to model.\n",
    "\n",
    "1. A particle in 3-D space. The states of such a system could be described in three observables $\\mathbf X, \\mathbf Y, \\mathbf Z$, with _simultaneous_ eigenstates $\\ket{x, y , z}$\n",
    "\n",
    "2. Two physically independent spins (i.e two qubits), which has states:\n",
    "\n",
    "| State 1 | State 2|\n",
    "|---|---\n",
    "|$\\ket{u_1}$|$\\ket{u_2}$|\n",
    "|$\\ket{u_1}$|$\\ket{d_2}$|\n",
    "|$\\ket{d_1}$|$\\ket{u_1}$|\n",
    "|$\\ket{d_1}$|$\\ket{d_1}$|\n",
    "\n",
    "  Each of which is an eigenstate of an observable $\\mathbf L$ or $\\mathbf M$ respectively.\n",
    "  \n",
    "In order to have a definite value for multiple observables $\\mathbf L, \\mathbf M$, the quantum state $\\ket \\psi$ must be a simultaneous eigenstate of both $\\mathbf L, \\mathbf M$ with eigenvalues $\\lambda, \\mu$ respectively.\n",
    "\n",
    "$$\n",
    "\\op L\\ket \\psi = \\lambda \\ket \\psi\\\\\n",
    "\\op M\\ket \\psi = \\mu \\ket \\psi\n",
    "$$\n",
    "\n",
    "Two observables can only have simultaneous eigenvalues if they commute. We can derive this as:\n",
    "\n",
    "$$\n",
    "\\begin{align*}\n",
    "\\op L \\op M \\ket \\psi &= \\op L ( \\mu \\ket \\psi )\\\\\n",
    "&= \\lambda \\mu \\ket \\psi\\\\\n",
    "&= \\mu \\lambda \\ket \\psi\\\\\n",
    "&= \\mu (\\op L \\ket \\psi)\\\\\n",
    "&= \\op M \\op L \\ket \\psi\n",
    "\\end{align*}\n",
    "$$\n",
    "\n",
    "And since $\\op L \\op M$ behaves this way with every simultaneous eigenvector, it does it to all linear combinations, and therefore behaves this way with every vector in our vector space. Therefore, we have that $\\op L \\op M = \\op M \\op L$ or $[\\op L, \\op M] = 0$."
   ]
  },
  {
   "cell_type": "markdown",
   "metadata": {},
   "source": [
    "### 5.1.2 Wave Functions\n",
    "\n",
    "In quantum mechanics, we can define the wave function $\\psi(a, b, c, \\dots)$ to be the component of the quantum state $\\ket \\Psi$ for the eigenvector $\\ket{a, b, c, \\dots}$."
   ]
  },
  {
   "cell_type": "markdown",
   "metadata": {},
   "source": [
    "### 5.1.3 A Note About Terminology\n",
    "\n",
    "Because of their close relation, many authors will treat the quantum state $\\ket\\Psi$ and the wave function $\\psi(a,b,c,\\dots)$ interchangeably."
   ]
  },
  {
   "cell_type": "markdown",
   "metadata": {},
   "source": [
    "## 5.2 Measurement\n",
    "\n",
    "If two observables do not commute, their values cannot be known simultaneously.\n",
    "\n",
    "**Exercise 5.1:** Verify this claim\n",
    "\n",
    "We need to represent any 2x2 Hermitian matrix $H$ as a sum of $\\sigma_x, \\sigma_y, \\sigma_z$ and $I$.\n",
    "\n",
    "$$\n",
    "H = \\begin{pmatrix}\n",
    "r & w \\\\ w^* & r'\n",
    "\\end{pmatrix} = a\\sigma_x + b\\sigma_y + c\\sigma_z + dI = \\begin{pmatrix} c + d & a - ib \\\\ a + ib & c - d \\end{pmatrix}\n",
    "$$\n",
    "\n",
    "Which is solved by\n",
    "$$\n",
    "\\begin{align*}\n",
    "a &= \\operatorname{Re}(w)\\\\\\\\\n",
    "b &= -\\operatorname{Im}(w)\\\\\\\\\n",
    "c &= \\frac{r' + r}{2}\\\\\\\\\n",
    "d &= \\frac{r - r'}{2}\n",
    "\\end{align*}\n",
    "$$\n",
    "\n",
    "Since any spin observable can be represented as a superposition of $\\sigma_z, \\sigma_x, \\sigma_y$, and since each pair of these have a non-zero commutator, no spin observables commute and therefore the spin in any two directions cannot be known simultaneously."
   ]
  },
  {
   "cell_type": "markdown",
   "metadata": {},
   "source": [
    "$$\n",
    "|ix| = (ix)^*(ix) = -ix^*(ix) = -i^2x^*x = x^*x = |x|\n",
    "$$"
   ]
  },
  {
   "cell_type": "markdown",
   "metadata": {},
   "source": [
    "$$\n",
    "P(a) = \\inner{a}{\\Psi}\n",
    "$$"
   ]
  },
  {
   "cell_type": "markdown",
   "metadata": {},
   "source": [
    "$$\n",
    "\\mathbf{x} = \\begin{pmatrix} 1 \\\\ 2 \\\\ 3 \\end{pmatrix}\n",
    "$$"
   ]
  },
  {
   "cell_type": "markdown",
   "metadata": {},
   "source": [
    "$$\n",
    "\\ket{A} = b\\ket{B} + c\\ket{C}\\\\\n",
    "\\bra{A} = \\bra{B}b^* + \\bra{C}c^*\n",
    "$$"
   ]
  },
  {
   "cell_type": "code",
   "execution_count": null,
   "metadata": {},
   "outputs": [],
   "source": []
  },
  {
   "cell_type": "markdown",
   "metadata": {},
   "source": [
    "## 5.3 The Uncertainty Principle\n",
    "\n",
    "Any two observables that do not commute must not be simultaneously known. In particular, the product of the \"uncertainties\" of two observables will need to be greater than a value proportional to their commutators."
   ]
  },
  {
   "cell_type": "markdown",
   "metadata": {},
   "source": [
    "## 5.4 The Meaning Of Uncertainty\n",
    "\n",
    "The \"uncertainty\" of an observable can be quantified as it's standard deviation $\\Delta A = \\sqrt{\\exp{(A - \\exp{A})^2}}$ "
   ]
  },
  {
   "cell_type": "markdown",
   "metadata": {},
   "source": [
    "$$\n",
    "\\newcommand{\\inner}[2]{{\\langle #1 | #2 \\rangle}}\n",
    "$$"
   ]
  },
  {
   "cell_type": "markdown",
   "metadata": {},
   "source": [
    "## 5.5 The Cauchy-Schwartz Inequality\n",
    "\n",
    "$$\n",
    "|\\op A||\\op B| \\geq \\inner{\\op A}{\\op B}\n",
    "$$"
   ]
  },
  {
   "cell_type": "markdown",
   "metadata": {},
   "source": [
    "## 5.6 The Triangle Inequality and the Cauchy-Schwartz Inequality"
   ]
  },
  {
   "cell_type": "markdown",
   "metadata": {},
   "source": [
    "## 5.7 The General Uncertainty Principle\n",
    "\n",
    "**Exercise 5.2**\n",
    "\n",
    "1) Show that $\\Delta \\mathbf{A}^2 = \\exp{\\mathbf{\\bar{A}}^2}$\n",
    "\n",
    "   First note that for any eigenvalue $\\lambda$ of $\\mathbf A$, we have that $\\lambda^2$ is an eigenvalue of $\\mathbf A^2$\n",
    "   \n",
    "   $$\n",
    "   \\mathbf{A^2}\\ket{\\lambda} = A(\\lambda\\ket{\\lambda}) = \\lambda^2\\ket{\\lambda}\n",
    "   $$\n",
    "   \n",
    "   Therefore, we can conclude that $\\exp{\\mathbf{A}^2} = \\sum_\\lambda{\\lambda^2P(\\lambda)}$. Now we can derive\n",
    "   \n",
    "   $$\n",
    "   \\begin{align*}\n",
    "   \\Delta \\mathbf A^2 &= \\sum_\\lambda{(\\lambda - \\exp{A})^2P(\\lambda)}\\\\\n",
    "   &= \\sum_\\lambda{(\\lambda^2 - 2\\exp{A}\\lambda + \\exp{A}^2)P(\\lambda)}\\\\\n",
    "   &= \\sum_\\lambda{\\lambda^2P(\\lambda)} - \\sum_\\lambda{2\\exp{A}\\lambda P(\\lambda)} + \\sum_\\lambda{\\exp{A}^2P(\\lambda)}\\\\\n",
    "   &= \\exp{A^2} - 2\\exp{A}\\exp{A} + \\exp{A}^2\\\\\n",
    "   &= \\exp{A^2 - 2\\exp{A}A + \\exp{A}^2}\\\\\n",
    "   &= \\exp{(A - \\exp{A}I)^2}\\\\\n",
    "   &= \\exp{\\bar{A}^2}\n",
    "   \\end{align*}\n",
    "   $$\n",
    "   \n",
    "2) Show that $[\\bar{A}, \\bar{B}] = [A, B]$\n",
    "\n",
    "   $$\n",
    "   \\begin{align*}\n",
    "   [\\bar{A}, \\bar{B}] &= \\bar{A}\\bar{B} - \\bar{B}\\bar{A}\\\\\n",
    "   &= (A - \\exp{A})(B - \\exp{B}) - (B - \\exp{B})(A - \\exp{A})\\\\\n",
    "   &= (AB - \\exp{A}B - \\exp{B}A + \\exp{A}\\exp{B}) - (BA - \\exp{A}B - \\exp{B}A + \\exp{A}\\exp{B})\\\\\n",
    "   &= AB - \\exp{A}B - \\exp{B}A + \\exp{A}\\exp{B} - BA + \\exp{A}B + \\exp{B}A - \\exp{A}\\exp{B}\\\\\n",
    "   &= AB - BA\\\\\n",
    "   &= [A, B]\n",
    "   \\end{align*}\n",
    "   $$\n",
    "   \n",
    "3) Using these relations, show that\n",
    "   \n",
    "   $$\n",
    "   \\Delta A \\Delta B \\geq \\frac{1}{2}|\\bra{\\Psi}[A,B]\\ket{\\Psi}|\n",
    "   $$\n",
    "   \n",
    "   Substitute $X = \\bar{A}\\ket{\\psi}, Y = i\\bar{B}\\ket{\\psi}$ into (5.9), obtaining\n",
    "   \n",
    "   $$\n",
    "   2\\sqrt{\\exp{\\bar{A}^2}\\exp{\\bar{B}^2}} \\geq |\\bra{\\Psi}[\\bar{A},\\bar{B}]\\ket{\\Psi}|\n",
    "   $$\n",
    "   \n",
    "   By **Exercise 5.2.1**, we have\n",
    "   \n",
    "   $$\n",
    "   \\Delta A \\Delta B \\geq \\frac{1}{2}|\\bra{\\Psi}[\\bar{A},\\bar{B}]\\ket{\\Psi}|\n",
    "   $$\n",
    "   \n",
    "   And by **Exercise 5.2.2** we have\n",
    "   \n",
    "   $$\n",
    "   \\Delta A \\Delta B \\geq \\frac{1}{2}|\\bra{\\Psi}[A,B]\\ket{\\Psi}|\n",
    "   $$"
   ]
  }
 ],
 "metadata": {
  "kernelspec": {
   "display_name": "Julia 1.7 new 1.7.1",
   "language": "julia",
   "name": "julia-1.7-new-1.7"
  },
  "language_info": {
   "file_extension": ".jl",
   "mimetype": "application/julia",
   "name": "julia",
   "version": "1.7.1"
  }
 },
 "nbformat": 4,
 "nbformat_minor": 2
}
