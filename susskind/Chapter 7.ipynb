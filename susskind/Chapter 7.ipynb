{
 "cells": [
  {
   "cell_type": "markdown",
   "metadata": {},
   "source": [
    "# Chapter 7: More on Entanglement"
   ]
  },
  {
   "cell_type": "markdown",
   "metadata": {},
   "source": [
    "## 7.1 Mathematical Interlude: Tensor Products in Component Form\n",
    "$$\n",
    "\\newcommand{\\ket}[1]{|#1\\rangle}\n",
    "\\newcommand{\\bra}[1]{\\langle#1|}\n",
    "\\newcommand{\\exp}[1]{{\\langle#1\\rangle}}\n",
    "\\newcommand{\\op}[1]{{\\mathbf{#1}}}\n",
    "\\newcommand{\\aket}[1]{|#1\\}}\n",
    "\\newcommand{\\abra}[1]{\\{#1|}\n",
    "\\newcommand{\\aexp}[1]{\\{#1\\}}\n",
    "\\newcommand{\\i}[2]{\\langle#1|#2\\rangle}\n",
    "\\newcommand{\\ia}[2]{\\{#1|#2\\}}\n",
    "\\newcommand{\\cor}[2]{\\operatorname{Cor}(#1, #2)}\n",
    "\\newcommand{\\mag}[1]{#1^*#1}\n",
    "$$"
   ]
  },
  {
   "cell_type": "markdown",
   "metadata": {},
   "source": [
    "$$\n",
    "\\newcommand{\\sigmazI}[0]{\\begin{pmatrix} 1 & 0 & 0 & 0 \\\\ 0 & 1 & 0 & 0 \\\\ 0 & 0 & -1 & 0 \\\\ 0 & 0 & 0 & -1 \\end{pmatrix}}\n",
    "$$"
   ]
  },
  {
   "cell_type": "markdown",
   "metadata": {},
   "source": [
    "$$\n",
    "\\sigma_z \\in \\operatorname{Hom}(V, V), I \\in \\operatorname{Hom}(W, W)\n",
    "$$"
   ]
  },
  {
   "cell_type": "markdown",
   "metadata": {},
   "source": [
    "$$\n",
    "\\sigma_z \\otimes I \\in \\operatorname{Hom}(V \\otimes W, V \\otimes W)\n",
    "$$"
   ]
  },
  {
   "cell_type": "markdown",
   "metadata": {},
   "source": [
    "### 7.1.1 Building Tensor Product Matrices from Basic Principles\n",
    "\n",
    "Recall that we can write the matrix components of any linear operator $\\op{M}$ as:\n",
    "\n",
    "$$\n",
    "m_{jk} = \\bra{j}\\op{M}\\ket{k}\n",
    "$$\n",
    "\n",
    "Where $i, k$ range over all of the elements of some basis. Keep in mind, these matrix components are specific to this choice of basis.\n",
    "\n",
    "Using this identity, and recalling that $\\ket{uu}, \\ket{ud}, \\ket{du}, \\ket{dd}$ form a basis for the tensor product space, we can compute the components of any operator on the product space. For example, we can compute the components of $\\sigma_z \\otimes I$\n",
    "\n",
    "$\\quad$|$\\ket{uu}$|$\\ket{ud}$|$\\ket{du}$|$\\ket{dd}$\n",
    "---|---|---|---|---\n",
    "$\\bra{uu}$ | $\\bra{uu}\\sigma_z\\otimes I\\ket{uu}$ | $\\bra{uu}\\sigma_z\\otimes I\\ket{ud}$ | $\\bra{uu}\\sigma_z\\otimes I\\ket{du}$ | $\\bra{uu}\\sigma_z\\otimes I\\ket{dd}$\n",
    "$\\bra{ud}$ | $\\bra{ud}\\sigma_z\\otimes I\\ket{uu}$ | $\\bra{ud}\\sigma_z\\otimes I\\ket{ud}$ | $\\bra{ud}\\sigma_z\\otimes I\\ket{du}$ | $\\bra{ud}\\sigma_z\\otimes I\\ket{dd}$\n",
    "$\\bra{du}$ | $\\bra{du}\\sigma_z\\otimes I\\ket{uu}$ | $\\bra{du}\\sigma_z\\otimes I\\ket{ud}$ | $\\bra{du}\\sigma_z\\otimes I\\ket{du}$ | $\\bra{du}\\sigma_z\\otimes I\\ket{dd}$\n",
    "$\\bra{dd}$ | $\\bra{dd}\\sigma_z\\otimes I\\ket{uu}$ | $\\bra{dd}\\sigma_z\\otimes I\\ket{ud}$ | $\\bra{dd}\\sigma_z\\otimes I\\ket{du}$ | $\\bra{dd}\\sigma_z\\otimes I\\ket{dd}$\n",
    "\n",
    "$\\quad$|$\\ket{uu}$|$\\ket{ud}$|$\\ket{du}$|$\\ket{dd}$\n",
    "---|---|---|---|---\n",
    "$\\bra{uu}$ | 1 | 0 | 0 | 0\n",
    "$\\bra{ud}$ | 0 | 1 | 0 | 0\n",
    "$\\bra{du}$ | 0 | 0 | -1 | 0\n",
    "$\\bra{dd}$ | 0 | 0 | 0 | -1\n",
    "\n",
    "As we will see later, we have as vector representations of our basis vectors:\n",
    "\n",
    "$$\n",
    "\\begin{align*}\n",
    "\\ket{uu} = \\begin{pmatrix} 1 \\\\ 0 \\\\ 0 \\\\ 0 \\end{pmatrix}\\\\\n",
    "\\ket{ud} = \\begin{pmatrix} 0 \\\\ 1 \\\\ 0 \\\\ 0 \\end{pmatrix}\\\\\n",
    "\\ket{du} = \\begin{pmatrix} 0 \\\\ 0 \\\\ 1 \\\\ 0 \\end{pmatrix}\\\\\n",
    "\\ket{dd} = \\begin{pmatrix} 0 \\\\ 0 \\\\ 0 \\\\ 1 \\end{pmatrix}\n",
    "\\end{align*}\n",
    "$$\n",
    "\n",
    "And so we can see that all of our eigenvector relationships still hold:\n",
    "$$\n",
    "\\begin{align}\n",
    "\\sigma_z\\otimes I \\ket{uu} &= \\sigmazI \\begin{pmatrix} 1 \\\\ 0 \\\\ 0 \\\\ 0 \\end{pmatrix} = \\begin{pmatrix} 1 \\\\ 0 \\\\ 0 \\\\ 0 \\end{pmatrix} = \\ket{uu}\\\\\n",
    "\\sigma_z\\otimes I \\ket{ud} &= \\sigmazI \\begin{pmatrix} 0 \\\\ 1 \\\\ 0 \\\\ 0 \\end{pmatrix} = \\begin{pmatrix} 0 \\\\ 1 \\\\ 0 \\\\ 0 \\end{pmatrix} = \\ket{ud}\\\\\n",
    "\\sigma_z\\otimes I \\ket{du} &= \\sigmazI \\begin{pmatrix} 0 \\\\ 0 \\\\ 1 \\\\ 0 \\end{pmatrix} = \\begin{pmatrix} 0 \\\\ 0 \\\\ -1 \\\\ 0 \\end{pmatrix} = -\\ket{du}\\\\\n",
    "\\sigma_z\\otimes I \\ket{dd} &= \\sigmazI \\begin{pmatrix} 0 \\\\ 0 \\\\ 1 \\\\ 0 \\end{pmatrix} = \\begin{pmatrix} 0 \\\\ 0 \\\\ -1 \\\\ 0 \\end{pmatrix} = -\\ket{dd}\n",
    "\\end{align}\n",
    "$$"
   ]
  },
  {
   "cell_type": "markdown",
   "metadata": {},
   "source": [
    "### 7.1.2 Building Tensor Product Matrices from Component Matrices\n",
    "\n",
    "However, we can construct tensor products directly. For example, for 2x2 matrices, we can take the tensor product as:\n",
    "\n",
    "$$\n",
    "\\begin{align}\n",
    "A \\otimes B &= \\begin{pmatrix} A_{11} B & A_{12} B \\\\ A_{21} B & A_{22} B \\end{pmatrix}\\\\\\\\\n",
    "&= \\begin{pmatrix}\n",
    "A_{11} B_{11} & A_{11} B_{12} & A_{12} B_{11} & A_{12} B_{12} \\\\\n",
    "A_{11} B_{21} & A_{11} B_{22} & A_{12} B_{21} & A_{12} B_{22} \\\\\n",
    "A_{21} B_{11} & A_{21} B_{12} & A_{22} B_{11} & A_{22} B_{12} \\\\\n",
    "A_{21} B_{21} & A_{21} B_{22} & A_{22} B_{21} & A_{22} B_{22}\n",
    "\\end{pmatrix}\n",
    "\\end{align}\n",
    "$$\n",
    "\n",
    "This also applies to vectors as well:\n",
    "\n",
    "$$\n",
    "\\begin{pmatrix} a_1 \\\\ a_2 \\end{pmatrix} \\otimes \\begin{pmatrix} b_1 \\\\ b_2 \\end{pmatrix} = \\begin{pmatrix} a_1 b_1 \\\\ a_1 b_2 \\\\ a_2 b_1 \\\\ a_2 b_2 \\end{pmatrix}\n",
    "$$\n",
    "\n",
    "We can use this to come up with the components of our basis vectors in the product space:\n",
    "\n",
    "$$\n",
    "\\begin{align}\n",
    "\\begin{pmatrix} 1 \\\\ 0 \\end{pmatrix} \\otimes \\begin{pmatrix} 1 \\\\ 0 \\end{pmatrix} &= \\begin{pmatrix} 1 \\\\ 0 \\\\ 0 \\\\ 0 \\end{pmatrix}\\\\\\\\\n",
    "\\begin{pmatrix} 1 \\\\ 0 \\end{pmatrix} \\otimes \\begin{pmatrix} 0 \\\\ 1 \\end{pmatrix} &= \\begin{pmatrix} 0 \\\\ 1 \\\\ 0 \\\\ 0 \\end{pmatrix}\\\\\\\\\n",
    "\\begin{pmatrix} 0 \\\\ 1 \\end{pmatrix} \\otimes \\begin{pmatrix} 1 \\\\ 0 \\end{pmatrix} &= \\begin{pmatrix} 0 \\\\ 0 \\\\ 1 \\\\ 0 \\end{pmatrix}\\\\\\\\\n",
    "\\begin{pmatrix} 0 \\\\ 1 \\end{pmatrix} \\otimes \\begin{pmatrix} 0 \\\\ 1 \\end{pmatrix} &= \\begin{pmatrix} 0 \\\\ 0 \\\\ 0 \\\\ 1 \\end{pmatrix}\n",
    "\\end{align}\n",
    "$$\n",
    "\n",
    "Additionally, we can find the components of any composite operator using this rule as well:\n",
    "\n",
    "$$\n",
    "\\sigma_z \\otimes \\tau_x = \\begin{pmatrix} 1 & 0 \\\\ 0 & -1 \\end{pmatrix} \\otimes \\begin{pmatrix} 0 & 1 \\\\ 1 & 0 \\end{pmatrix} =\n",
    "\\begin{pmatrix} 0 & 1 & 0 & 0 \\\\ 1 & 0 & 0 & 0 \\\\ 0 & 0 & 0 & -1 \\\\ 0 & 0 & -1 & 0 \\end{pmatrix}\n",
    "$$\n",
    "\n",
    "We can verify that this satisifes our notion of tensor product: that the \"left side\" component operator only acts on the \"left\" of the state, while the \"right side\" operator acts on the \"right\" part of the state.\n",
    "\n",
    "**Exercise 7.1:** Write the tensor product of $I \\otimes \\tau_x$ as a matrix, and apply that matrix to each of the $\\ket{uu}, \\ket{ud} \\ket{du}, \\ket{dd}$ column vectors. Show that Alice's half othe state-vector is unchanged in each case. Recall that $I$ is the $2\\times2$ unit matrix.\n",
    "\n",
    "$$\n",
    "\\newcommand{\\Itaux}[0]{\\begin{pmatrix} 0 & 1 & 0 & 0 \\\\ 1 & 0 & 0 & 0 \\\\ 0 & 0 & 0 & 1 \\\\ 0 & 0 & 1 & 0 \\end{pmatrix}}\n",
    "$$\n",
    "\n",
    "$$\n",
    "I \\otimes \\tau_x = \\begin{pmatrix} 1 & 0 \\\\ 0 & 1 \\end{pmatrix} \\otimes \\begin{pmatrix} 0 & 1 \\\\ 1 & 0 \\end{pmatrix} = \\Itaux\n",
    "$$\n",
    "\n",
    "$$\n",
    "I\\otimes\\tau_x \\ket{uu} = \\Itaux \\begin{pmatrix} 1 \\\\ 0 \\\\ 0 \\\\ 0 \\end{pmatrix} = \\begin{pmatrix} 0 \\\\ 1 \\\\ 0 \\\\ 0 \\end{pmatrix} = \\ket{ud} \\\\\n",
    "I\\otimes\\tau_x \\ket{ud} = \\Itaux \\begin{pmatrix} 0 \\\\ 1 \\\\ 0 \\\\ 0 \\end{pmatrix} = \\begin{pmatrix} 1 \\\\ 0 \\\\ 0 \\\\ 0 \\end{pmatrix} = \\ket{uu} \\\\\n",
    "I\\otimes\\tau_x \\ket{du} = \\Itaux \\begin{pmatrix} 0 \\\\ 0 \\\\ 1 \\\\ 0 \\end{pmatrix} = \\begin{pmatrix} 0 \\\\ 0 \\\\ 0 \\\\ 1 \\end{pmatrix} = \\ket{dd} \\\\\n",
    "I\\otimes\\tau_x \\ket{dd} = \\Itaux \\begin{pmatrix} 0 \\\\ 0 \\\\ 0 \\\\ 1 \\end{pmatrix} = \\begin{pmatrix} 0 \\\\ 0 \\\\ 1 \\\\ 0 \\end{pmatrix} = \\ket{du} \\\\\n",
    "$$\n",
    "\n",
    "**Exercise 7.2:** Calculate the matrix elements of $\\sigma_z \\otimes \\tau_x$ by forming inner products as we did in Eq. 7.2\n",
    "\n",
    "$\\quad$|$\\ket{uu}$|$\\ket{ud}$|$\\ket{du}$|$\\ket{dd}$\n",
    "---|---|---|---|---\n",
    "$\\bra{uu}$ | $\\bra{uu}\\sigma_z\\otimes \\tau_x \\ket{uu}$ | $\\bra{uu}\\sigma_z\\otimes \\tau_x\\ket{ud}$ | $\\bra{uu}\\sigma_z\\otimes \\tau_x\\ket{du}$ | $\\bra{uu}\\sigma_z\\otimes \\tau_x\\ket{dd}$\n",
    "$\\bra{ud}$ | $\\bra{ud}\\sigma_z\\otimes \\tau_x\\ket{uu}$ | $\\bra{ud}\\sigma_z\\otimes \\tau_x\\ket{ud}$ | $\\bra{ud}\\sigma_z\\otimes \\tau_x\\ket{du}$ | $\\bra{ud}\\sigma_z\\otimes \\tau_x\\ket{dd}$\n",
    "$\\bra{du}$ | $\\bra{du}\\sigma_z\\otimes \\tau_x\\ket{uu}$ | $\\bra{du}\\sigma_z\\otimes \\tau_x\\ket{ud}$ | $\\bra{du}\\sigma_z\\otimes \\tau_x\\ket{du}$ | $\\bra{du}\\sigma_z\\otimes \\tau_x\\ket{dd}$\n",
    "$\\bra{dd}$ | $\\bra{dd}\\sigma_z\\otimes \\tau_x\\ket{uu}$ | $\\bra{dd}\\sigma_z\\otimes \\tau_x\\ket{ud}$ | $\\bra{dd}\\sigma_z\\otimes \\tau_x\\ket{du}$ | $\\bra{dd}\\sigma_z\\otimes \\tau_x\\ket{dd}$\n",
    "\n",
    "$\\quad$|$\\ket{uu}$|$\\ket{ud}$|$\\ket{du}$|$\\ket{dd}$\n",
    "---|---|---|---|---\n",
    "$\\bra{uu}$ | 0 | 1 | 0 | 0\n",
    "$\\bra{ud}$ | 1 | 0 | 0 | 0\n",
    "$\\bra{du}$ | 0 | 0 | 0 | -1\n",
    "$\\bra{dd}$ | 0 | 0 | -1 | 0\n",
    "\n",
    "**Exercise 7.3:** \n",
    "\n",
    "a) Rewrite Eq. 7.10 in component form, replacing the symbols $A, B, a, b$, with with the matrices and column vectors from Eqs. 7.7 and 7.8.\n",
    "\n",
    "$$\n",
    "\\begin{align}\n",
    "(A \\otimes B)(a \\otimes b) &= \\bigg(\\begin{pmatrix} a_{11} & a_{12} \\\\ a_{21} & a_{22} \\end{pmatrix} \\otimes \\begin{pmatrix} b_{11} & b_{21} \\\\ b_{21} & b_{22} \\end{pmatrix} \\bigg)\\bigg(\\begin{pmatrix} a_1 \\\\ a_2 \\end{pmatrix} \\otimes \\begin{pmatrix} b_1 \\\\ b_2 \\end{pmatrix}\\bigg)\\\\\n",
    "&= \\bigg(\\begin{pmatrix} a_{11} & a_{12} \\\\ a_{21} & a_{22} \\end{pmatrix}\\begin{pmatrix}a_1\\\\a_2\\end{pmatrix}\\bigg)\\otimes\\bigg(\\begin{pmatrix}b_{11} & b_{12} \\\\ b_{21} & b_{22} \\end{pmatrix}\\begin{pmatrix} b_1 \\\\ b_2 \\end{pmatrix}\\bigg)\n",
    "\\end{align}\n",
    "$$\n",
    "\n",
    "b) Perform the matrix multiplication $Aa$ and $Bb$ on the right hand side. Verify that each result is a $4\\times1$ matrix.\n",
    "\n",
    "$$\n",
    "\\begin{align}\n",
    "&\\bigg(\\begin{pmatrix} a_{11} & a_{12} \\\\ a_{21} & a_{22} \\end{pmatrix}\\begin{pmatrix}a_1\\\\a_2\\end{pmatrix}\\bigg)\\otimes\\bigg(\\begin{pmatrix}b_{11} & b_{12} \\\\ b_{21} & b_{22} \\end{pmatrix}\\begin{pmatrix} b_1 \\\\ b_2 \\end{pmatrix}\\bigg)\\\\\n",
    "&=\\begin{pmatrix} a_{11}a_1 + a_{12}a_2 \\\\ a_{21}a_1 + a_{22}a_2 \\end{pmatrix} \\otimes \\begin{pmatrix} b_{11}b_1 + b_{12}b_2 \\\\ b_{21}b_1 + b_{22}b_2 \\end{pmatrix}\\\\\n",
    "&=\\begin{pmatrix} (a_{11}a_1 + a_{12}a_2)(b_{11}b_1 + b_{12}b_2) \\\\ (a_{11}a_1 + a_{12}a_2) (b_{21}b_1 + b_{22}b_2)\\\\(a_{21}a_1 + a_{22}a_2)(b_{11}b_1 + b_{12}b_2)\\\\(a_{21}a_1 + a_{22}a_2)(b_{21}b_1 + b_{22}b_2)\\end{pmatrix}\\\\\n",
    "&=\\begin{pmatrix}\n",
    "a_{11}b_{11}a_1b_1 + a_{11}b_{12}a_1b_2 + a_{12}b_{11}a_2b_1 + a_{12}b_{12}a_2b_2 \\\\\n",
    "a_{11}b_{21}a_1b_1 + a_{11}b_{22}a_1b_2 + a_{12}b_{21}a_2b_1 + a_{12}b_{22}a_2b_2 \\\\\n",
    "a_{21}b_{11}a_1b_1 + a_{21}b_{21}a_1b_2 + a_{32}b_{11}a_2b_1 + a_{22}b_{12}a_2b_2 \\\\\n",
    "a_{21}b_{21}a_1b_1 + a_{21}b_{22}a_1b_2 + a_{22}b_{21}a_2b_1 + a_{22}b_{22}a_2b_2 \n",
    "\\end{pmatrix}\n",
    "\\end{align}\n",
    "$$\n",
    "\n",
    "c) Expand all three Kronecker products.\n",
    "\n",
    "$$\n",
    "\\begin{align}\n",
    "A \\otimes B &= \\begin{pmatrix} A_{11} B & A_{12} B \\\\ A_{21} B & A_{22} B \\end{pmatrix}\\\\\\\\\n",
    "&= \\begin{pmatrix}\n",
    "a_{11} b_{11} & a_{11} b_{12} & a_{12} b_{11} & a_{12} b_{12} \\\\\n",
    "a_{11} b_{21} & a_{11} b_{22} & a_{12} b_{21} & a_{12} b_{22} \\\\\n",
    "a_{21} b_{11} & a_{21} b_{12} & a_{22} b_{11} & a_{22} b_{12} \\\\\n",
    "a_{21} b_{21} & a_{21} b_{22} & a_{22} b_{21} & a_{22} b_{22}\n",
    "\\end{pmatrix}\n",
    "\\end{align}\n",
    "$$\n",
    "\n",
    "$$\n",
    "\\begin{align}\n",
    "\\begin{pmatrix}a_1\\\\a_2\\end{pmatrix}\\otimes\\begin{pmatrix}b_1\\\\b_2\\end{pmatrix}&=\\begin{pmatrix}a_1b_1\\\\a_1b_2\\\\a_2b_1\\\\a_2b_2\\end{pmatrix}\n",
    "\\end{align}\n",
    "$$\n",
    "\n",
    "d) Verify the row and column sizes of each Kronecker product:\n",
    "\n",
    "* $A \\otimes B: 4\\times4$\n",
    "* $a \\otimes b: 4\\times1$\n",
    "* $Aa \\otimes Bb: 4\\times1$\n",
    "\n",
    "e) Perform the matrix multiplication on the left-hand side, resulting in a $4\\times1$ column vector. Each row should be the sum of four separate terms.\n",
    "\n",
    "$$\n",
    "\\begin{pmatrix}\n",
    "a_{11} b_{11} & a_{11} b_{12} & a_{12} b_{11} & a_{12} b_{12} \\\\\n",
    "a_{11} b_{21} & a_{11} b_{22} & a_{12} b_{21} & a_{12} b_{22} \\\\\n",
    "a_{21} b_{11} & a_{21} b_{12} & a_{22} b_{11} & a_{22} b_{12} \\\\\n",
    "a_{21} b_{21} & a_{21} b_{22} & a_{22} b_{21} & a_{22} b_{22}\n",
    "\\end{pmatrix}\n",
    "\\begin{pmatrix}a_1b_1\\\\a_1b_2\\\\a_2b_1\\\\a_2b_2\\end{pmatrix}\\\\\n",
    "= \\begin{pmatrix}\n",
    "a_{11}b_{11}a_1b_1 + a_{11}b_{12}a_1b_2 + a_{12}b_{11}a_2b_1 + a_{12}b_{12}a_2b_2 \\\\\n",
    "a_{11}b_{21}a_1b_1 + a_{11}b_{22}a_1b_2 + a_{12}b_{21}a_2b_1 + a_{12}b_{22}a_2b_2 \\\\\n",
    "a_{21}b_{11}a_1b_1 + a_{21}b_{21}a_1b_2 + a_{32}b_{11}a_2b_1 + a_{22}b_{12}a_2b_2 \\\\\n",
    "a_{21}b_{21}a_1b_1 + a_{21}b_{22}a_1b_2 + a_{22}b_{21}a_2b_1 + a_{22}b_{22}a_2b_2 \n",
    "\\end{pmatrix}\n",
    "$$\n",
    "\n",
    "f) Finally, verify that the column vectors on the left and right sides are identical.\n",
    "\n",
    "✅"
   ]
  },
  {
   "cell_type": "markdown",
   "metadata": {},
   "source": [
    "$$\n",
    "\\begin{align}\n",
    "A \\otimes B &= \\begin{pmatrix} A_{11} B & A_{12} B \\\\ A_{21} B & A_{22} B \\end{pmatrix}\\\\\\\\\n",
    "&= \\begin{pmatrix}\n",
    "A_{11} & 0 & A_{12} & 0 \\\\\n",
    "A_{11} B_{21} & A_{11} B_{22} & A_{12} B_{21} & A_{12} B_{22} \\\\\n",
    "A_{21} B_{11} & A_{21} B_{12} & A_{22} B_{11} & A_{22} B_{12} \\\\\n",
    "A_{21} B_{21} & A_{21} B_{22} & A_{22} B_{21} & A_{22} B_{22}\n",
    "\\end{pmatrix}\n",
    "\\end{align}\n",
    "$$"
   ]
  },
  {
   "cell_type": "markdown",
   "metadata": {},
   "source": [
    "# 7.2 Mathematical Interlude: Outer Products\n",
    "\n",
    "$$\n",
    "\\newcommand{\\o}[2]{|#1\\rangle\\langle#2|}\n",
    "$$\n",
    "\n",
    "In addition to the inner product $\\i{\\psi}{\\phi}$, we can also form the outer product $\\o{\\psi}{\\phi}$ which forms an operator we can define as:\n",
    "\n",
    "$$\n",
    "\\o{\\psi}{\\phi}\\ket{A} = \\ket{\\psi}\\bigg(\\i{\\phi}{A}\\bigg)\n",
    "$$\n",
    "\n",
    "Additionally, we can act on dual vectors using the outer product operator\n",
    "\n",
    "$$\n",
    "\\bra{B}\\o{\\psi}{\\phi} = \\i{B}{\\psi}\\ket{\\phi}\n",
    "$$\n",
    "\n",
    "For any normalized vector $\\ket\\psi$ we can form the projection operator by taking the outer product of it and itself:\n",
    "\n",
    "$$\n",
    "\\o{\\psi}{\\psi}\n",
    "$$\n",
    "\n",
    "* Projection operators are Hermitian $(\\o{\\psi}{\\psi})^\\dagger = \\o{\\psi}{\\psi}$\n",
    "* The vector $\\ket\\psi$ is an eigenvector of $\\o{\\psi}{\\psi}$ with $\\lambda = 1$\n",
    "* Any vector $\\ket\\phi$ such that $\\i{\\phi}{\\psi} = 0$ is an eigenvector of $\\o{\\psi}{\\psi}$ with $\\lambda = 0$\n",
    "* $\\o{\\psi}{\\psi}^2 = \\ket{\\psi}\\i{\\psi}{\\psi}\\bra{\\psi} = \\o{\\psi}{\\psi}$\n",
    "* $\\operatorname{Tr}\\o{\\psi}{\\psi} = 1$\n",
    "* $\\sum_i{\\o{i}{i}} = I$\n",
    "* $\\bra{\\psi}\\op{L}\\ket{\\psi} = \\operatorname{Tr}{\\o{\\psi}{\\psi}\\op{L}}$"
   ]
  },
  {
   "cell_type": "markdown",
   "metadata": {},
   "source": [
    "$$\n",
    "\\sum_i{\\bra{\\psi}\\op{L}\\ket{i}\\bra{i}\\ket{\\psi}} = \\bra{\\psi}\\op{L}\\sum_i{\\ket{i}\\bra{i}\\ket\\psi} = \\bra{\\psi}\\op{L}\\bigg(\\sum_i{\\o{i}{i}}\\bigg)\\ket\\psi = \\bra{\\psi}\\op{L}\\ket\\psi\n",
    "$$"
   ]
  },
  {
   "cell_type": "markdown",
   "metadata": {},
   "source": [
    "## 7.3 Density Matrices: A New Tool\n",
    "\n",
    "The density matrix $\\rho$ is a way of representing an uncertain quantum state. In general, we can write the expected value of every observable $\\op{L}$ as:\n",
    "\n",
    "$$\n",
    "\\exp{\\op{L}} = \\operatorname{Tr}\\rho\\op{L}\n",
    "$$"
   ]
  },
  {
   "cell_type": "markdown",
   "metadata": {},
   "source": [
    "## 7.4 Entanglement and Density Matrices"
   ]
  },
  {
   "cell_type": "markdown",
   "metadata": {},
   "source": [
    "## 7.5 Entanglement for Two Spins\n",
    "\n",
    "**Exercise 7.4:** Calculate the density matrix for\n",
    "\n",
    "$$\n",
    "\\ket{\\Psi} = \\alpha \\ket u + \\beta \\ket d\n",
    "$$"
   ]
  },
  {
   "cell_type": "markdown",
   "metadata": {},
   "source": [
    "$$\n",
    "\\begin{align}\n",
    "\\rho_{aa'} &= \\psi^*(a')\\psi(a) \\\\\n",
    "\\Rightarrow \\rho_{uu} &= \\psi^*(u)\\psi(u) = \\alpha^*\\alpha\\\\\n",
    "\\Rightarrow \\rho_{ud} &= \\psi^*(d)\\psi(u) = \\beta^*\\alpha\\\\\n",
    "\\Rightarrow \\rho_{du} &= \\psi^*(u)\\psi(u) = \\alpha^*\\alpha\\\\\n",
    "\\Rightarrow \\rho_{dd} &= \\psi^*(u)\\psi(u) = \\beta^*\\beta\\\\\n",
    "\\end{align}\n",
    "$$\n",
    "\n",
    "$$\n",
    "\\rho = \\begin{pmatrix} \\alpha^*\\alpha & \\alpha^*\\beta \\\\ \\beta^*\\alpha & \\beta^*\\beta \\end{pmatrix}\n",
    "$$"
   ]
  },
  {
   "cell_type": "code",
   "execution_count": 33,
   "metadata": {},
   "outputs": [
    {
     "data": {
      "text/plain": [
       "ρ (generic function with 1 method)"
      ]
     },
     "execution_count": 33,
     "metadata": {},
     "output_type": "execute_result"
    }
   ],
   "source": [
    "ρ(α, β) = [ conj(α)α conj(α)β ; conj(β)α conj(β)β ]"
   ]
  },
  {
   "cell_type": "code",
   "execution_count": 5,
   "metadata": {},
   "outputs": [
    {
     "data": {
      "text/plain": [
       "2×2 Matrix{Float64}:\n",
       " 0.5  0.5\n",
       " 0.5  0.5"
      ]
     },
     "execution_count": 5,
     "metadata": {},
     "output_type": "execute_result"
    }
   ],
   "source": [
    "ρ(1/√2, 1/√2)"
   ]
  },
  {
   "cell_type": "code",
   "execution_count": 32,
   "metadata": {},
   "outputs": [
    {
     "data": {
      "text/plain": [
       "2×2 Matrix{ComplexF64}:\n",
       " 1.0+0.0im  0.0+0.0im\n",
       " 0.0-0.0im  0.0+0.0im"
      ]
     },
     "execution_count": 32,
     "metadata": {},
     "output_type": "execute_result"
    }
   ],
   "source": [
    "ρ(exp(im*rand(0:0.01:2π)), 0)"
   ]
  },
  {
   "cell_type": "markdown",
   "metadata": {},
   "source": [
    "## 7.6 A Concrete Example: Calculating Alice's Density Matrix\n",
    "\n",
    "**Exercise 7.5:** \n",
    "\n",
    "a) Show that\n",
    "\n",
    "$$\n",
    "\\begin{pmatrix} a & 0 \\\\ 0 & b \\end{pmatrix}^2 = \\begin{pmatrix} a^2 & 0 \\\\ 0 & b^2 \\end{pmatrix}\n",
    "$$\n",
    "\n",
    "b) Now suppose\n",
    "\n",
    "$$\n",
    "\\rho = \\begin{pmatrix} \\frac{1}{3} & 0 \\\\ 0 & \\frac{2}{3} \\end{pmatrix}\n",
    "$$\n",
    "\n",
    "Calculate\n",
    "\n",
    "$$\n",
    "\\rho^2 = \\begin{pmatrix} \\frac{1}{3} & 0 \\\\ 0 & \\frac{2}{3} \\end{pmatrix}^2 = \\begin{pmatrix} \\frac{1}{9} & 0 \\\\ 0 & \\frac{4}{9} \\end{pmatrix}\n",
    "$$\n",
    "\n",
    "$$\n",
    "\\operatorname{Tr}{\\rho} = 1\n",
    "$$\n",
    "\n",
    "$$\n",
    "\\operatorname{Tr}{\\rho^2} = \\frac{5}{9}\n",
    "$$"
   ]
  },
  {
   "cell_type": "markdown",
   "metadata": {},
   "source": [
    "## 7.7 Tests for Entanglement"
   ]
  }
 ],
 "metadata": {
  "kernelspec": {
   "display_name": "Julia 1.7.2",
   "language": "julia",
   "name": "julia-1.7"
  },
  "language_info": {
   "file_extension": ".jl",
   "mimetype": "application/julia",
   "name": "julia",
   "version": "1.7.2"
  }
 },
 "nbformat": 4,
 "nbformat_minor": 2
}
