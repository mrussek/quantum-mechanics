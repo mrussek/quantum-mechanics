{
 "cells": [
  {
   "cell_type": "markdown",
   "metadata": {},
   "source": [
    "# Problem Set 3\n",
    "\n",
    "1. **Exercises with commutators** Let $A, B$, and $C$ be linear operators.\n",
    "\n",
    "   a. Show that $[A, BC] = [A, B]C + B[A, C]$\n",
    "   \n",
    "      $$[A, B]C + B[A, C] = (ABC - BAC) + (BAC - BCA) = ABC - BCA = [A, BC]$$\n",
    "      \n",
    "   b. Show that $[AB, C] = A[B, C] + [A, C]B$\n",
    "      \n",
    "      $$\n",
    "      A[B,C] + [A,C]B = ABC - ACB + ACB - CAB = ABC - CAB = [AB, C]\n",
    "      $$\n",
    "      \n",
    "   c. Show that $[A, [B, C]] + [B, [C, A]] + [C, [A, B] = 0$\n",
    "   \n",
    "      $$\n",
    "      \\begin{align} \n",
    "      [A, [B, C]] + [B, [C, A]] + [C, [A, B] &= A[B,C] - [B,C]A + B[C,A] - [C,A]B + C[A,B] - [A,B]C\\\\\\\\\n",
    "      &= ABC - ACB \\\\\n",
    "      &- BCA + CBA\\\\\n",
    "      &+ BCA - BAC\\\\\n",
    "      &- CAB + ACB\\\\\n",
    "      &+ CAB - CBA\\\\\n",
    "      &- ABC + BAC\\\\\n",
    "      &= 0\n",
    "      \\end{align}\n",
    "      $$\n",
    "      \n",
    "   d. Calculate $[\\hat{x}^n, \\hat{p}]$ and $[\\hat{p}^n, x]$ for $n$ an arbitrary integer greater than zero.\n",
    "   \n",
    "      $$\n",
    "      [\\hat{x}, \\hat{p}] = i\\hbar\\mathbb{I}\n",
    "      $$\n",
    "      \n",
    "      $$\n",
    "      [\\hat{x}^{n+1}, \\hat{p}] = x^{n+1}p-px^{n+1} = x^n(xp)- (px)x^n\n",
    "      $$\n",
    "   \n",
    "   e. Calculate $[\\hat{x}\\hat{p}, \\hat{x}^2]$ and $[\\hat{x}\\hat{p}, \\hat{p}]$"
   ]
  }
 ],
 "metadata": {
  "kernelspec": {
   "display_name": "Python 3",
   "language": "python",
   "name": "python3"
  },
  "language_info": {
   "codemirror_mode": {
    "name": "ipython",
    "version": 3
   },
   "file_extension": ".py",
   "mimetype": "text/x-python",
   "name": "python",
   "nbconvert_exporter": "python",
   "pygments_lexer": "ipython3",
   "version": "3.7.1"
  }
 },
 "nbformat": 4,
 "nbformat_minor": 2
}
